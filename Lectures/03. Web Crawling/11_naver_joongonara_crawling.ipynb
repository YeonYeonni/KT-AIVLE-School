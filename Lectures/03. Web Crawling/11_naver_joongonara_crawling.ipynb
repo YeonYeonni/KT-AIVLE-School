{
 "cells": [
  {
   "cell_type": "code",
   "execution_count": 1,
   "id": "972b7d29",
   "metadata": {},
   "outputs": [],
   "source": [
    "from selenium import webdriver\n",
    "from selenium.webdriver.common.by import By"
   ]
  },
  {
   "cell_type": "code",
   "execution_count": 11,
   "id": "b899dabb",
   "metadata": {},
   "outputs": [],
   "source": [
    "url = \"https://cafe.naver.com/joonggonara.cafe\""
   ]
  },
  {
   "cell_type": "code",
   "execution_count": 12,
   "id": "493af47a",
   "metadata": {},
   "outputs": [
    {
     "name": "stderr",
     "output_type": "stream",
     "text": [
      "<ipython-input-12-4d29b4b9a6b7>:2: DeprecationWarning: executable_path has been deprecated, please pass in a Service object\n",
      "  driver = webdriver.Chrome('../day3/chromedriver.exe')\n"
     ]
    }
   ],
   "source": [
    "# 1. 웹 브라우저 열기 및 페이지 이동\n",
    "driver = webdriver.Chrome('../day3/chromedriver.exe')\n",
    "driver.get(url)"
   ]
  },
  {
   "cell_type": "code",
   "execution_count": 13,
   "id": "099b76a5",
   "metadata": {},
   "outputs": [],
   "source": [
    "# 2. 검색창에 '맥북' 입력하고 검색 버튼 클릭\n",
    "keyword = \"맥북\"\n",
    "driver.find_element(By.CSS_SELECTOR, \"#topLayerQueryInput\").send_keys(keyword)"
   ]
  },
  {
   "cell_type": "code",
   "execution_count": 14,
   "id": "c9cba69a",
   "metadata": {},
   "outputs": [],
   "source": [
    "# JS 코드 실행\n",
    "driver.execute_script(\"searchBoard();\")"
   ]
  },
  {
   "cell_type": "code",
   "execution_count": 15,
   "id": "1d27cd45",
   "metadata": {},
   "outputs": [],
   "source": [
    "# 3. 게시글 목록 데이터 수집 :iframe\n",
    "iframe = driver.find_element(By.CSS_SELECTOR, \"#cafe_main\")\n",
    "# iframe으로 이동\n",
    "driver.switch_to.frame(iframe)\n",
    "selector = \".article-board > table > tbody > tr\"\n",
    "elements = driver.find_elements(By.CSS_SELECTOR, selector)"
   ]
  },
  {
   "cell_type": "code",
   "execution_count": 16,
   "id": "1b499496",
   "metadata": {},
   "outputs": [],
   "source": [
    "element = elements[0]"
   ]
  },
  {
   "cell_type": "code",
   "execution_count": 17,
   "id": "7b5636a3",
   "metadata": {},
   "outputs": [
    {
     "data": {
      "text/plain": [
       "('[미개봉/급처] 애플 2022 맥북프로 13 M2 실버 (8c, 10g, 8gb, 512gb)', 'EKShin')"
      ]
     },
     "execution_count": 17,
     "metadata": {},
     "output_type": "execute_result"
    }
   ],
   "source": [
    "title = element.find_element(By.CSS_SELECTOR, \".article\").text\n",
    "writer = element.find_element(By.CSS_SELECTOR, \".p-nick\").text\n",
    "title, writer"
   ]
  },
  {
   "cell_type": "code",
   "execution_count": 18,
   "id": "65c13771",
   "metadata": {},
   "outputs": [
    {
     "data": {
      "text/html": [
       "<div>\n",
       "<style scoped>\n",
       "    .dataframe tbody tr th:only-of-type {\n",
       "        vertical-align: middle;\n",
       "    }\n",
       "\n",
       "    .dataframe tbody tr th {\n",
       "        vertical-align: top;\n",
       "    }\n",
       "\n",
       "    .dataframe thead th {\n",
       "        text-align: right;\n",
       "    }\n",
       "</style>\n",
       "<table border=\"1\" class=\"dataframe\">\n",
       "  <thead>\n",
       "    <tr style=\"text-align: right;\">\n",
       "      <th></th>\n",
       "      <th>title</th>\n",
       "      <th>writer</th>\n",
       "    </tr>\n",
       "  </thead>\n",
       "  <tbody>\n",
       "    <tr>\n",
       "      <th>13</th>\n",
       "      <td>맥북프로 14형 M1 PRO 스그 16G 512G MKGP3KH/A</td>\n",
       "      <td>서울구로동</td>\n",
       "    </tr>\n",
       "    <tr>\n",
       "      <th>14</th>\n",
       "      <td>[판매]맥북프로 M2 512GB 그레이(8코어C/10코어G/8GB)(미개봉)(고급형)</td>\n",
       "      <td>고래그래서</td>\n",
       "    </tr>\n",
       "  </tbody>\n",
       "</table>\n",
       "</div>"
      ],
      "text/plain": [
       "                                              title writer\n",
       "13            맥북프로 14형 M1 PRO 스그 16G 512G MKGP3KH/A  서울구로동\n",
       "14  [판매]맥북프로 M2 512GB 그레이(8코어C/10코어G/8GB)(미개봉)(고급형)  고래그래서"
      ]
     },
     "execution_count": 18,
     "metadata": {},
     "output_type": "execute_result"
    }
   ],
   "source": [
    "# 4. 데이터 프레임으로 만들기\n",
    "data = []\n",
    "for element in elements:\n",
    "    data.append({\n",
    "        \"title\": element.find_element(By.CSS_SELECTOR, \".article\").text,\n",
    "        \"writer\": element.find_element(By.CSS_SELECTOR, \".p-nick\").text,\n",
    "    })\n",
    "df = pd.DataFrame(data)\n",
    "df.tail(2)"
   ]
  },
  {
   "cell_type": "code",
   "execution_count": 19,
   "id": "7f7b4ff2",
   "metadata": {},
   "outputs": [],
   "source": [
    "# 5. 웹 브라우저 종료\n",
    "driver.quit()"
   ]
  },
  {
   "cell_type": "code",
   "execution_count": null,
   "id": "9ad4c111",
   "metadata": {},
   "outputs": [],
   "source": []
  }
 ],
 "metadata": {
  "kernelspec": {
   "display_name": "Python 3",
   "language": "python",
   "name": "python3"
  },
  "language_info": {
   "codemirror_mode": {
    "name": "ipython",
    "version": 3
   },
   "file_extension": ".py",
   "mimetype": "text/x-python",
   "name": "python",
   "nbconvert_exporter": "python",
   "pygments_lexer": "ipython3",
   "version": "3.8.8"
  }
 },
 "nbformat": 4,
 "nbformat_minor": 5
}
