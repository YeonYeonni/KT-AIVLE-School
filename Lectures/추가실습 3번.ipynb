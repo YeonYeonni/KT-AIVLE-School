{
 "cells": [
  {
   "cell_type": "code",
   "execution_count": 1,
   "id": "e8800f7f",
   "metadata": {},
   "outputs": [
    {
     "name": "stdout",
     "output_type": "stream",
     "text": [
      "43\n"
     ]
    }
   ],
   "source": [
    "# 추가실습 Q3\n",
    "def solution(left, right):\n",
    "    answer = 0\n",
    "    \n",
    "    for i in range(left, right + 1):\n",
    "        \n",
    "        # 약수의 개수를 구하기 위한 list. 매번 초기화 해주기.\n",
    "        idx = []\n",
    "        \n",
    "        # 1부터 해당 숫자까지의 약수를 구해 list에 추가.\n",
    "        for j in range(1, i + 1):\n",
    "            if i % j == 0:\n",
    "                idx.append(j)\n",
    "        \n",
    "        # 약수의 개수가 짝수면 더하고\n",
    "        if len(idx) % 2 == 0:\n",
    "            answer += i\n",
    "            \n",
    "        # 약수의 개수가 홀수면 뺀다.\n",
    "        else:\n",
    "            answer -= i\n",
    "                \n",
    "    return answer\n",
    "\n",
    "left = 13\n",
    "right = 17\n",
    "c = solution(left, right)\n",
    "print(c)"
   ]
  },
  {
   "cell_type": "code",
   "execution_count": null,
   "id": "4f83429c",
   "metadata": {},
   "outputs": [],
   "source": []
  }
 ],
 "metadata": {
  "kernelspec": {
   "display_name": "Python 3",
   "language": "python",
   "name": "python3"
  },
  "language_info": {
   "codemirror_mode": {
    "name": "ipython",
    "version": 3
   },
   "file_extension": ".py",
   "mimetype": "text/x-python",
   "name": "python",
   "nbconvert_exporter": "python",
   "pygments_lexer": "ipython3",
   "version": "3.8.8"
  }
 },
 "nbformat": 4,
 "nbformat_minor": 5
}
