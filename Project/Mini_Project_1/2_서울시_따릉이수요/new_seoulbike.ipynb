{
 "cells": [
  {
   "cell_type": "markdown",
   "id": "d01fae64",
   "metadata": {},
   "source": [
    "## [미니프로젝트] 서울시 공유자전거 '따릉이'의 수요 예측\n",
    "\n",
    "### 여러분은 서울시 정책 연구원으로써 서울시 공유자전거인 '따릉이'의 수요와 날씨간 연관성을 분석하라는 미션을 부여받았습니다.\n",
    "\n",
    "#### <font color=\"blue\"> 데이터 분석의 주 목적은 가치있는 정보를 찾아내는것!! </font>\n",
    "\n",
    "### ▣ 우리가 풀어야 하는 문제는 무엇인가요?\n",
    "\n",
    " - 기상상황이 따릉이 수요에 주는 영향을 분석해봅시다."
   ]
  },
  {
   "cell_type": "code",
   "execution_count": 167,
   "id": "bec356d8",
   "metadata": {},
   "outputs": [
    {
     "name": "stderr",
     "output_type": "stream",
     "text": [
      "C:\\Users\\User\\anaconda3\\lib\\site-packages\\seaborn\\distributions.py:2619: FutureWarning: `distplot` is a deprecated function and will be removed in a future version. Please adapt your code to use either `displot` (a figure-level function with similar flexibility) or `histplot` (an axes-level function for histograms).\n",
      "  warnings.warn(msg, FutureWarning)\n"
     ]
    },
    {
     "data": {
      "image/png": "[encoded data removed]",
      "text/plain": [
       "<Figure size 432x288 with 1 Axes>"
      ]
     },
     "metadata": {
      "needs_background": "light"
     },
     "output_type": "display_data"
    }
   ],
   "source": [
    "sns.distplot(data['precipitation'], bins = 2, hist_kws = dict(edgecolor='grey'))\n",
    "plt.show()"
   ]
  },
  {
   "cell_type": "markdown",
   "id": "829c9f57",
   "metadata": {},
   "source": [
    "## ▣ 데이터 소개\n",
    "[기본 데이터]\n",
    "* 학습데이터 : traindata.csv\n",
    "\n",
    "## ▣ 데이터셋의 변수 소개\n",
    "* date : 날짜\n",
    "* hour : 시간\n",
    "* temperature : 온도\n",
    "* precipitation : 강우 여부, 비가 오지 않았으면 0, 비가 오면 1\n",
    "* windspeed : 풍속(평균)\n",
    "* humidity : 습도\n",
    "* visibility : 시정(視程), 시계(視界)(특정 기상 상태에 따른 가시성을 의미)\n",
    "* ozone : 오존 수치\n",
    "* PM10 : 미세먼지 수치(머리카락 굵기의 1/5에서 1/7 크기의 미세먼지)\n",
    "* PM2.5 : 초미세먼지 수치(머리카락 굵기의 1/20에서 1/30 크기의 미세먼지)\n",
    "* count : 시간에 따른 따릉이 대여 수"
   ]
  },
  {
   "cell_type": "markdown",
   "id": "cf670450",
   "metadata": {},
   "source": [
    "### [과제1] 환경 설정\n",
    "#### <span style=\"color: green\"> 1) 라이브러리 불러오기 </span>"
   ]
  },
  {
   "cell_type": "code",
   "execution_count": 1,
   "id": "2cb27603",
   "metadata": {},
   "outputs": [],
   "source": [
    "#EDA에 사용할 라이브러리를 import 하세요\n",
    "import numpy as np\n",
    "import pandas as pd\n",
    "import matplotlib.pyplot as plt\n",
    "import seaborn as sns\n",
    "import scipy.stats as spst"
   ]
  },
  {
   "cell_type": "markdown",
   "id": "c695cd12",
   "metadata": {},
   "source": [
    "#### <span style=\"color: green\"> 2) 활용할 데이터 불러오기 </span>"
   ]
  },
  {
   "cell_type": "code",
   "execution_count": 2,
   "id": "030cdcfc",
   "metadata": {},
   "outputs": [],
   "source": [
    "#이번 프로젝트에서 분석할 데이터를 불러오세요\n",
    "data = pd.read_csv('traindata.csv')"
   ]
  },
  {
   "cell_type": "code",
   "execution_count": 3,
   "id": "c79eb366",
   "metadata": {},
   "outputs": [
    {
     "data": {
      "text/html": [
       "<div>\n",
       "<style scoped>\n",
       "    .dataframe tbody tr th:only-of-type {\n",
       "        vertical-align: middle;\n",
       "    }\n",
       "\n",
       "    .dataframe tbody tr th {\n",
       "        vertical-align: top;\n",
       "    }\n",
       "\n",
       "    .dataframe thead th {\n",
       "        text-align: right;\n",
       "    }\n",
       "</style>\n",
       "<table border=\"1\" class=\"dataframe\">\n",
       "  <thead>\n",
       "    <tr style=\"text-align: right;\">\n",
       "      <th></th>\n",
       "      <th>date</th>\n",
       "      <th>hour</th>\n",
       "      <th>PM10</th>\n",
       "      <th>PM2.5</th>\n",
       "      <th>ozone</th>\n",
       "      <th>temperature</th>\n",
       "      <th>precipitation</th>\n",
       "      <th>windspeed</th>\n",
       "      <th>humidity</th>\n",
       "      <th>visibility</th>\n",
       "      <th>count</th>\n",
       "    </tr>\n",
       "  </thead>\n",
       "  <tbody>\n",
       "    <tr>\n",
       "      <th>0</th>\n",
       "      <td>2021-04-01</td>\n",
       "      <td>1</td>\n",
       "      <td>42.0</td>\n",
       "      <td>21.0</td>\n",
       "      <td>0.002</td>\n",
       "      <td>13.1</td>\n",
       "      <td>0</td>\n",
       "      <td>1.4</td>\n",
       "      <td>49</td>\n",
       "      <td>2000</td>\n",
       "      <td>46</td>\n",
       "    </tr>\n",
       "    <tr>\n",
       "      <th>1</th>\n",
       "      <td>2021-04-01</td>\n",
       "      <td>2</td>\n",
       "      <td>41.0</td>\n",
       "      <td>21.0</td>\n",
       "      <td>0.003</td>\n",
       "      <td>12.4</td>\n",
       "      <td>0</td>\n",
       "      <td>2.1</td>\n",
       "      <td>53</td>\n",
       "      <td>2000</td>\n",
       "      <td>40</td>\n",
       "    </tr>\n",
       "    <tr>\n",
       "      <th>2</th>\n",
       "      <td>2021-04-01</td>\n",
       "      <td>3</td>\n",
       "      <td>30.0</td>\n",
       "      <td>13.0</td>\n",
       "      <td>0.023</td>\n",
       "      <td>13.1</td>\n",
       "      <td>0</td>\n",
       "      <td>3.4</td>\n",
       "      <td>43</td>\n",
       "      <td>2000</td>\n",
       "      <td>31</td>\n",
       "    </tr>\n",
       "    <tr>\n",
       "      <th>3</th>\n",
       "      <td>2021-04-01</td>\n",
       "      <td>4</td>\n",
       "      <td>27.0</td>\n",
       "      <td>12.0</td>\n",
       "      <td>0.028</td>\n",
       "      <td>13.0</td>\n",
       "      <td>0</td>\n",
       "      <td>3.1</td>\n",
       "      <td>44</td>\n",
       "      <td>2000</td>\n",
       "      <td>12</td>\n",
       "    </tr>\n",
       "    <tr>\n",
       "      <th>4</th>\n",
       "      <td>2021-04-01</td>\n",
       "      <td>5</td>\n",
       "      <td>29.0</td>\n",
       "      <td>14.0</td>\n",
       "      <td>0.008</td>\n",
       "      <td>13.0</td>\n",
       "      <td>0</td>\n",
       "      <td>2.9</td>\n",
       "      <td>44</td>\n",
       "      <td>2000</td>\n",
       "      <td>30</td>\n",
       "    </tr>\n",
       "  </tbody>\n",
       "</table>\n",
       "</div>"
      ],
      "text/plain": [
       "         date  hour  PM10  PM2.5  ozone  temperature  precipitation  \\\n",
       "0  2021-04-01     1  42.0   21.0  0.002         13.1              0   \n",
       "1  2021-04-01     2  41.0   21.0  0.003         12.4              0   \n",
       "2  2021-04-01     3  30.0   13.0  0.023         13.1              0   \n",
       "3  2021-04-01     4  27.0   12.0  0.028         13.0              0   \n",
       "4  2021-04-01     5  29.0   14.0  0.008         13.0              0   \n",
       "\n",
       "   windspeed  humidity  visibility  count  \n",
       "0        1.4        49        2000     46  \n",
       "1        2.1        53        2000     40  \n",
       "2        3.4        43        2000     31  \n",
       "3        3.1        44        2000     12  \n",
       "4        2.9        44        2000     30  "
      ]
     },
     "execution_count": 3,
     "metadata": {},
     "output_type": "execute_result"
    }
   ],
   "source": [
    "data.head()"
   ]
  },
  {
   "cell_type": "code",
   "execution_count": 161,
   "id": "55a22a19",
   "metadata": {},
   "outputs": [
    {
     "data": {
      "text/html": [
       "<div>\n",
       "<style scoped>\n",
       "    .dataframe tbody tr th:only-of-type {\n",
       "        vertical-align: middle;\n",
       "    }\n",
       "\n",
       "    .dataframe tbody tr th {\n",
       "        vertical-align: top;\n",
       "    }\n",
       "\n",
       "    .dataframe thead th {\n",
       "        text-align: right;\n",
       "    }\n",
       "</style>\n",
       "<table border=\"1\" class=\"dataframe\">\n",
       "  <thead>\n",
       "    <tr style=\"text-align: right;\">\n",
       "      <th></th>\n",
       "      <th>date</th>\n",
       "      <th>hour</th>\n",
       "      <th>PM10</th>\n",
       "      <th>PM2.5</th>\n",
       "      <th>ozone</th>\n",
       "      <th>temperature</th>\n",
       "      <th>precipitation</th>\n",
       "      <th>windspeed</th>\n",
       "      <th>humidity</th>\n",
       "      <th>visibility</th>\n",
       "      <th>count</th>\n",
       "    </tr>\n",
       "  </thead>\n",
       "  <tbody>\n",
       "    <tr>\n",
       "      <th>5822</th>\n",
       "      <td>2021-11-29</td>\n",
       "      <td>20</td>\n",
       "      <td>74.0</td>\n",
       "      <td>58.0</td>\n",
       "      <td>0.002</td>\n",
       "      <td>9.3</td>\n",
       "      <td>0</td>\n",
       "      <td>0.3</td>\n",
       "      <td>66</td>\n",
       "      <td>1193</td>\n",
       "      <td>273</td>\n",
       "    </tr>\n",
       "    <tr>\n",
       "      <th>5823</th>\n",
       "      <td>2021-11-29</td>\n",
       "      <td>21</td>\n",
       "      <td>65.0</td>\n",
       "      <td>56.0</td>\n",
       "      <td>0.002</td>\n",
       "      <td>8.4</td>\n",
       "      <td>0</td>\n",
       "      <td>2.0</td>\n",
       "      <td>70</td>\n",
       "      <td>1233</td>\n",
       "      <td>228</td>\n",
       "    </tr>\n",
       "    <tr>\n",
       "      <th>5824</th>\n",
       "      <td>2021-11-29</td>\n",
       "      <td>22</td>\n",
       "      <td>51.0</td>\n",
       "      <td>41.0</td>\n",
       "      <td>0.002</td>\n",
       "      <td>8.6</td>\n",
       "      <td>0</td>\n",
       "      <td>1.9</td>\n",
       "      <td>70</td>\n",
       "      <td>1250</td>\n",
       "      <td>215</td>\n",
       "    </tr>\n",
       "    <tr>\n",
       "      <th>5825</th>\n",
       "      <td>2021-11-29</td>\n",
       "      <td>23</td>\n",
       "      <td>43.0</td>\n",
       "      <td>35.0</td>\n",
       "      <td>0.001</td>\n",
       "      <td>8.2</td>\n",
       "      <td>0</td>\n",
       "      <td>2.1</td>\n",
       "      <td>71</td>\n",
       "      <td>1262</td>\n",
       "      <td>125</td>\n",
       "    </tr>\n",
       "    <tr>\n",
       "      <th>5826</th>\n",
       "      <td>2021-11-30</td>\n",
       "      <td>0</td>\n",
       "      <td>39.0</td>\n",
       "      <td>31.0</td>\n",
       "      <td>0.004</td>\n",
       "      <td>7.9</td>\n",
       "      <td>0</td>\n",
       "      <td>2.3</td>\n",
       "      <td>71</td>\n",
       "      <td>1483</td>\n",
       "      <td>95</td>\n",
       "    </tr>\n",
       "  </tbody>\n",
       "</table>\n",
       "</div>"
      ],
      "text/plain": [
       "            date  hour  PM10  PM2.5  ozone  temperature  precipitation  \\\n",
       "5822  2021-11-29    20  74.0   58.0  0.002          9.3              0   \n",
       "5823  2021-11-29    21  65.0   56.0  0.002          8.4              0   \n",
       "5824  2021-11-29    22  51.0   41.0  0.002          8.6              0   \n",
       "5825  2021-11-29    23  43.0   35.0  0.001          8.2              0   \n",
       "5826  2021-11-30     0  39.0   31.0  0.004          7.9              0   \n",
       "\n",
       "      windspeed  humidity  visibility  count  \n",
       "5822        0.3        66        1193    273  \n",
       "5823        2.0        70        1233    228  \n",
       "5824        1.9        70        1250    215  \n",
       "5825        2.1        71        1262    125  \n",
       "5826        2.3        71        1483     95  "
      ]
     },
     "execution_count": 161,
     "metadata": {},
     "output_type": "execute_result"
    }
   ],
   "source": [
    "data.tail()"
   ]
  },
  {
   "cell_type": "code",
   "execution_count": 4,
   "id": "d8e23c9a",
   "metadata": {},
   "outputs": [
    {
     "name": "stdout",
     "output_type": "stream",
     "text": [
      "<class 'pandas.core.frame.DataFrame'>\n",
      "RangeIndex: 5827 entries, 0 to 5826\n",
      "Data columns (total 11 columns):\n",
      " #   Column         Non-Null Count  Dtype  \n",
      "---  ------         --------------  -----  \n",
      " 0   date           5827 non-null   object \n",
      " 1   hour           5827 non-null   int64  \n",
      " 2   PM10           5725 non-null   float64\n",
      " 3   PM2.5          5732 non-null   float64\n",
      " 4   ozone          5699 non-null   float64\n",
      " 5   temperature    5827 non-null   float64\n",
      " 6   precipitation  5827 non-null   int64  \n",
      " 7   windspeed      5827 non-null   float64\n",
      " 8   humidity       5827 non-null   int64  \n",
      " 9   visibility     5827 non-null   int64  \n",
      " 10  count          5827 non-null   int64  \n",
      "dtypes: float64(5), int64(5), object(1)\n",
      "memory usage: 500.9+ KB\n"
     ]
    }
   ],
   "source": [
    "data.info()"
   ]
  },
  {
   "cell_type": "markdown",
   "id": "c5da852f",
   "metadata": {},
   "source": [
    "### [과제2] 가설설정\n",
    "#### '가설' 이란 단어를 생각해보면, 우리가 직접 가설을 만들어야 할것 같지만 통계에서 분석기법별 귀무가설/대립가설은 정해져있습니다.\n",
    "- 귀무가설은 차이가 없다, 연관성이 없다, 효과가 없다.\n",
    "- 대립가설은 차이가 있다, 연관성이 있다, 효과가 있다. 라고 간단하게 이해하시면 좋습니다.\n",
    "\n",
    "#### 간단한 예로, 온도와 따릉이 대여량간 가설을 수립 해본다면\n",
    "\n",
    "    - 귀무가설 : 온도와 따릉이 간에는 연관성이 없다.\n",
    "    - 대립가설 : 온도와 따릉이 간에는 연관성이 있다.\n",
    "\n",
    "로 가설이 자연스레 수립 됩니다.\n",
    "\n",
    "\n",
    "\n",
    "---\n",
    "\n",
    "\n",
    "#### <span style=\"color: green\"> 'precipitation' 변수를 포함하여, 최소 5개 이상의 Feature와 따릉이 대여량 간 가설을 수립해주세요. </span>\n",
    "\n",
    "##### Guide : Target은 따릉이 대여량 입니다."
   ]
  },
  {
   "cell_type": "markdown",
   "id": "b6d1ca73",
   "metadata": {},
   "source": [
    "### [과제3] 단변량 분석\n",
    "\n",
    "단변량 분석은 데이터분석의 매우 기초적인 분석기법으로, 독립적인 개별 변수가 가지고있는 특성들을 이해하는 과정입니다.\n",
    "\n",
    "<span style=\"color: green\"> 개별 변수에 대해 아래 사항들을 분석해보세요. </span>\n",
    "\n",
    "1. 변수가 내포하고 있는 의미\n",
    "2. 변수가 수치형인지, 범주형인지\n",
    "3. 결측치 존재 여부 및 조치 방안\n",
    "4. 기초 통계량 확인\n",
    "5. 데이터 분포 확인\n",
    "6. 위 정보로부터 파악한 내용 정리\n",
    "7. 추가 분석사항 도출"
   ]
  },
  {
   "cell_type": "markdown",
   "id": "28a323e7",
   "metadata": {},
   "source": [
    "### Feature1 : hour"
   ]
  },
  {
   "cell_type": "markdown",
   "id": "155ef8e7",
   "metadata": {},
   "source": [
    "1. 변수가 내포하고 있는 의미"
   ]
  },
  {
   "cell_type": "markdown",
   "id": "b393a8b0",
   "metadata": {},
   "source": [
    "- 변수의 의미를 한번 짚고 넘어갑시다.\n",
    "hour 변수는 어떤 의미를 가지고 있나요?"
   ]
  },
  {
   "cell_type": "markdown",
   "id": "feaf9b66",
   "metadata": {},
   "source": [
    "#### 시간을 의미"
   ]
  },
  {
   "cell_type": "markdown",
   "id": "7f656bac",
   "metadata": {},
   "source": [
    "2. 변수가 수치형인지 범주형인지\n"
   ]
  },
  {
   "cell_type": "code",
   "execution_count": 5,
   "id": "aa5ec9b6",
   "metadata": {},
   "outputs": [
    {
     "data": {
      "text/plain": [
       "0        1\n",
       "1        2\n",
       "2        3\n",
       "3        4\n",
       "4        5\n",
       "        ..\n",
       "5822    20\n",
       "5823    21\n",
       "5824    22\n",
       "5825    23\n",
       "5826     0\n",
       "Name: hour, Length: 5827, dtype: int64"
      ]
     },
     "execution_count": 5,
     "metadata": {},
     "output_type": "execute_result"
    }
   ],
   "source": [
    "#변수의 자료형을 확인해보세요.\n",
    "data['hour']"
   ]
  },
  {
   "cell_type": "markdown",
   "id": "b05b326b",
   "metadata": {},
   "source": [
    "3. 변수의 결측치 존재 여부 및 조치방안"
   ]
  },
  {
   "cell_type": "code",
   "execution_count": 6,
   "id": "3bc93aca",
   "metadata": {},
   "outputs": [
    {
     "data": {
      "text/plain": [
       "0"
      ]
     },
     "execution_count": 6,
     "metadata": {},
     "output_type": "execute_result"
    }
   ],
   "source": [
    "#변수의 결측치 존재 여부를 확인하고, 만약 결측치가 존재하면 어떻게 처리할지 고민해보세요. \n",
    "data['hour'].isna().sum()"
   ]
  },
  {
   "cell_type": "markdown",
   "id": "589d0ef0",
   "metadata": {},
   "source": [
    "4. 변수의 기초 통계량 확인"
   ]
  },
  {
   "cell_type": "code",
   "execution_count": 7,
   "id": "02cdbc17",
   "metadata": {},
   "outputs": [
    {
     "data": {
      "text/plain": [
       "count    5827.000000\n",
       "mean       11.506607\n",
       "std         6.921963\n",
       "min         0.000000\n",
       "25%         6.000000\n",
       "50%        12.000000\n",
       "75%        18.000000\n",
       "max        23.000000\n",
       "Name: hour, dtype: float64"
      ]
     },
     "execution_count": 7,
     "metadata": {},
     "output_type": "execute_result"
    }
   ],
   "source": [
    "#변수의 기초 통계량을 확인해보세요\n",
    "data['hour'].describe()"
   ]
  },
  {
   "cell_type": "markdown",
   "id": "1792c536",
   "metadata": {},
   "source": [
    "5. 변수의 분포 확인"
   ]
  },
  {
   "cell_type": "code",
   "execution_count": 8,
   "id": "900dc5bb",
   "metadata": {},
   "outputs": [
    {
     "data": {
      "text/plain": [
       "array([ 1,  2,  3,  4,  5,  6,  7,  8,  9, 10, 11, 12, 13, 14, 15, 16, 17,\n",
       "       18, 19, 20, 21, 22, 23,  0], dtype=int64)"
      ]
     },
     "execution_count": 8,
     "metadata": {},
     "output_type": "execute_result"
    }
   ],
   "source": [
    "data['hour'].unique()"
   ]
  },
  {
   "cell_type": "code",
   "execution_count": 9,
   "id": "141ab212",
   "metadata": {},
   "outputs": [
    {
     "data": {
      "image/png": "[encoded data removed]",
      "text/plain": [
       "<Figure size 432x288 with 1 Axes>"
      ]
     },
     "metadata": {
      "needs_background": "light"
     },
     "output_type": "display_data"
    }
   ],
   "source": [
    "plt.hist(data['hour'], bins = 24, edgecolor = 'white')\n",
    "plt.show()"
   ]
  },
  {
   "cell_type": "code",
   "execution_count": 10,
   "id": "fd91a674",
   "metadata": {},
   "outputs": [
    {
     "data": {
      "image/png": "[encoded data removed]",
      "text/plain": [
       "<Figure size 432x288 with 1 Axes>"
      ]
     },
     "metadata": {
      "needs_background": "light"
     },
     "output_type": "display_data"
    }
   ],
   "source": [
    "#변수의 분포를 시각화 라이브러리를 활용해 확인해보세요.\n",
    "sns.kdeplot(data['hour'])\n",
    "plt.show()"
   ]
  },
  {
   "cell_type": "markdown",
   "id": "a84d197b",
   "metadata": {},
   "source": [
    "6. 위 정보로 부터 파악한 내용 정리"
   ]
  },
  {
   "cell_type": "markdown",
   "id": "1064c906",
   "metadata": {},
   "source": [
    "- 각 시간별로 데이터가 균일하게 분포되어 있음을 알 수 있음.\n",
    "- 데이터 불균형이 일어나지 않음."
   ]
  },
  {
   "cell_type": "markdown",
   "id": "2a712fb7",
   "metadata": {},
   "source": [
    "7. 추가 분석사항 도출"
   ]
  },
  {
   "cell_type": "code",
   "execution_count": 11,
   "id": "56c57b5b",
   "metadata": {},
   "outputs": [],
   "source": [
    "#추가로 분석을 원하는 부분이 있다면 분석후 정리해보세요."
   ]
  },
  {
   "cell_type": "markdown",
   "id": "991c1703",
   "metadata": {},
   "source": [
    "### Feature2 : temperature"
   ]
  },
  {
   "cell_type": "markdown",
   "id": "418d7a93",
   "metadata": {},
   "source": [
    "1. 변수가 내포하고 있는 의미\n",
    "- 변수의 의미를 한번 짚고 넘어갑시다. 여러분이 생각하는 이 변수의 의미를 작성해보세요."
   ]
  },
  {
   "cell_type": "markdown",
   "id": "aeb774c6",
   "metadata": {},
   "source": [
    "#### 온도. Celcius단위를 활용\n",
    "\n",
    "- 물이 끓는점을 100℃, 얼음이 녹는점을 0℃로 하여 이 사이를 100등분한 온도 눈금. "
   ]
  },
  {
   "cell_type": "markdown",
   "id": "505d265c",
   "metadata": {},
   "source": [
    "2. 변수가 수치형인지 범주형인지\n"
   ]
  },
  {
   "cell_type": "code",
   "execution_count": 12,
   "id": "00c4ea4e",
   "metadata": {},
   "outputs": [
    {
     "data": {
      "text/plain": [
       "0       13.1\n",
       "1       12.4\n",
       "2       13.1\n",
       "3       13.0\n",
       "4       13.0\n",
       "        ... \n",
       "5822     9.3\n",
       "5823     8.4\n",
       "5824     8.6\n",
       "5825     8.2\n",
       "5826     7.9\n",
       "Name: temperature, Length: 5827, dtype: float64"
      ]
     },
     "execution_count": 12,
     "metadata": {},
     "output_type": "execute_result"
    }
   ],
   "source": [
    "#변수의 자료형을 확인해보세요.\n",
    "data['temperature']"
   ]
  },
  {
   "cell_type": "markdown",
   "id": "4cf7c314",
   "metadata": {},
   "source": [
    "3. 변수의 결측치 존재 여부 및 조치방안"
   ]
  },
  {
   "cell_type": "code",
   "execution_count": 13,
   "id": "d9bf81a8",
   "metadata": {},
   "outputs": [
    {
     "data": {
      "text/plain": [
       "0"
      ]
     },
     "execution_count": 13,
     "metadata": {},
     "output_type": "execute_result"
    }
   ],
   "source": [
    "#변수의 결측치 존재 여부를 확인하고, 만약 결측치가 존재하면 어떻게 처리할지 고민해보세요. \n",
    "data['temperature'].isna().sum()"
   ]
  },
  {
   "cell_type": "markdown",
   "id": "1e8c103b",
   "metadata": {},
   "source": [
    "4. 변수의 기초 통계량 확인"
   ]
  },
  {
   "cell_type": "code",
   "execution_count": 14,
   "id": "4341a4e1",
   "metadata": {},
   "outputs": [
    {
     "data": {
      "text/plain": [
       "count    5827.000000\n",
       "mean       19.376798\n",
       "std         7.501572\n",
       "min        -3.500000\n",
       "25%        14.100000\n",
       "50%        20.400000\n",
       "75%        24.900000\n",
       "max        36.300000\n",
       "Name: temperature, dtype: float64"
      ]
     },
     "execution_count": 14,
     "metadata": {},
     "output_type": "execute_result"
    }
   ],
   "source": [
    "#변수의 기초 통계량을 확인해보세요\n",
    "data['temperature'].describe()"
   ]
  },
  {
   "cell_type": "markdown",
   "id": "fc16549e",
   "metadata": {},
   "source": [
    "5. 변수의 분포 확인"
   ]
  },
  {
   "cell_type": "code",
   "execution_count": 15,
   "id": "6cf84656",
   "metadata": {},
   "outputs": [
    {
     "data": {
      "image/png": "[encoded data removed]",
      "text/plain": [
       "<Figure size 432x288 with 1 Axes>"
      ]
     },
     "metadata": {
      "needs_background": "light"
     },
     "output_type": "display_data"
    }
   ],
   "source": [
    "#변수의 분포를 시각화 라이브러리를 활용해 확인해보세요.\n",
    "plt.hist(data['temperature'], bins = 24, edgecolor = 'white')\n",
    "plt.show()"
   ]
  },
  {
   "cell_type": "code",
   "execution_count": 16,
   "id": "50077e30",
   "metadata": {},
   "outputs": [
    {
     "data": {
      "image/png": "[encoded data removed]",
      "text/plain": [
       "<Figure size 432x288 with 1 Axes>"
      ]
     },
     "metadata": {
      "needs_background": "light"
     },
     "output_type": "display_data"
    }
   ],
   "source": [
    "sns.kdeplot(data['temperature'])\n",
    "plt.show()"
   ]
  },
  {
   "cell_type": "markdown",
   "id": "a538217e",
   "metadata": {},
   "source": [
    "6. 위 정보로 부터 파악한 내용 정리"
   ]
  },
  {
   "cell_type": "markdown",
   "id": "2fae8f2d",
   "metadata": {},
   "source": [
    "- 평균이 19.37인데 비해 가장 많은 빈도를 보이는 온도는 20~25도 부근이다."
   ]
  },
  {
   "cell_type": "markdown",
   "id": "174e619a",
   "metadata": {},
   "source": [
    "7. 추가 분석사항 도출"
   ]
  },
  {
   "cell_type": "markdown",
   "id": "550a6e86",
   "metadata": {},
   "source": [
    "- 온도가 아주 낮거나 아주 높을 때 대여량이 궁금\n",
    "- 특히 온도가 높아질수록 대여량이 급격하게 줄어드는지? (가설)"
   ]
  },
  {
   "cell_type": "markdown",
   "id": "523daab8",
   "metadata": {},
   "source": [
    "- 온도와 습도의 상관관계가 궁금"
   ]
  },
  {
   "cell_type": "code",
   "execution_count": 130,
   "id": "1091258a",
   "metadata": {},
   "outputs": [
    {
     "data": {
      "text/plain": [
       "(-0.09216232432104918, 1.8061337339784914e-12)"
      ]
     },
     "execution_count": 130,
     "metadata": {},
     "output_type": "execute_result"
    }
   ],
   "source": [
    "spst.pearsonr(data['temperature'], data['humidity'])"
   ]
  },
  {
   "cell_type": "markdown",
   "id": "259a548d",
   "metadata": {},
   "source": [
    "### Feature3 : precipitation"
   ]
  },
  {
   "cell_type": "markdown",
   "id": "4d5d54bc",
   "metadata": {},
   "source": [
    "1. 변수가 내포하고 있는 의미\n",
    "- 변수의 의미를 한번 짚고 넘어갑시다. 여러분이 생각하는 이 변수의 의미를 작성해보세요."
   ]
  },
  {
   "cell_type": "markdown",
   "id": "c62f5166",
   "metadata": {},
   "source": [
    "#### 강우 여부. 비가 오지 않았으면 0, 비가 왔으면 1"
   ]
  },
  {
   "cell_type": "markdown",
   "id": "b62d94b1",
   "metadata": {},
   "source": [
    "2. 변수가 수치형인지 범주형인지\n"
   ]
  },
  {
   "cell_type": "code",
   "execution_count": 17,
   "id": "51d821ee",
   "metadata": {},
   "outputs": [
    {
     "data": {
      "text/plain": [
       "0       0\n",
       "1       0\n",
       "2       0\n",
       "3       0\n",
       "4       0\n",
       "       ..\n",
       "5822    0\n",
       "5823    0\n",
       "5824    0\n",
       "5825    0\n",
       "5826    0\n",
       "Name: precipitation, Length: 5827, dtype: int64"
      ]
     },
     "execution_count": 17,
     "metadata": {},
     "output_type": "execute_result"
    }
   ],
   "source": [
    "data['precipitation']"
   ]
  },
  {
   "cell_type": "markdown",
   "id": "2ff44ad6",
   "metadata": {},
   "source": [
    "3. 변수의 결측치 존재 여부 및 조치방안"
   ]
  },
  {
   "cell_type": "code",
   "execution_count": 18,
   "id": "9b7e8f78",
   "metadata": {},
   "outputs": [
    {
     "data": {
      "text/plain": [
       "0"
      ]
     },
     "execution_count": 18,
     "metadata": {},
     "output_type": "execute_result"
    }
   ],
   "source": [
    "data['precipitation'].isna().sum()"
   ]
  },
  {
   "cell_type": "markdown",
   "id": "8c225083",
   "metadata": {},
   "source": [
    "4. 변수의 기초 통계량 확인"
   ]
  },
  {
   "cell_type": "code",
   "execution_count": 19,
   "id": "e37206a5",
   "metadata": {},
   "outputs": [
    {
     "data": {
      "text/plain": [
       "count    5827.000000\n",
       "mean        0.075511\n",
       "std         0.264236\n",
       "min         0.000000\n",
       "25%         0.000000\n",
       "50%         0.000000\n",
       "75%         0.000000\n",
       "max         1.000000\n",
       "Name: precipitation, dtype: float64"
      ]
     },
     "execution_count": 19,
     "metadata": {},
     "output_type": "execute_result"
    }
   ],
   "source": [
    "data['precipitation'].describe()"
   ]
  },
  {
   "cell_type": "markdown",
   "id": "4633bd8a",
   "metadata": {},
   "source": [
    "5. 변수의 분포 확인"
   ]
  },
  {
   "cell_type": "code",
   "execution_count": 81,
   "id": "d8da5c46",
   "metadata": {},
   "outputs": [
    {
     "data": {
      "image/png": "[encoded data removed]",
      "text/plain": [
       "<Figure size 432x288 with 1 Axes>"
      ]
     },
     "metadata": {
      "needs_background": "light"
     },
     "output_type": "display_data"
    }
   ],
   "source": [
    "plt.hist(data['precipitation'], bins = 2, edgecolor = 'white')\n",
    "plt.show()"
   ]
  },
  {
   "cell_type": "markdown",
   "id": "62c92cfc",
   "metadata": {},
   "source": [
    "6. 위 정보로 부터 파악한 내용 정리"
   ]
  },
  {
   "cell_type": "code",
   "execution_count": null,
   "id": "25971ecd",
   "metadata": {},
   "outputs": [],
   "source": []
  },
  {
   "cell_type": "markdown",
   "id": "fe768200",
   "metadata": {},
   "source": [
    "- 보통은 비가 오지 않음. 비가 온 쪽의 데이터가 부족한 현상이 발생"
   ]
  },
  {
   "cell_type": "markdown",
   "id": "2fa74e90",
   "metadata": {},
   "source": [
    "7. 추가 분석사항 도출"
   ]
  },
  {
   "cell_type": "code",
   "execution_count": null,
   "id": "c750a9e5",
   "metadata": {},
   "outputs": [],
   "source": [
    "# preperation이 1일때 대여량을 확인"
   ]
  },
  {
   "cell_type": "markdown",
   "id": "a670f0ef",
   "metadata": {},
   "source": [
    "### Feature4 : windspeed"
   ]
  },
  {
   "cell_type": "markdown",
   "id": "bec9eeae",
   "metadata": {},
   "source": [
    "1. 변수가 내포하고 있는 의미\n",
    "- 변수의 의미를 한번 짚고 넘어갑시다. 여러분이 생각하는 이 변수의 의미를 작성해보세요."
   ]
  },
  {
   "cell_type": "markdown",
   "id": "f7f31bdb",
   "metadata": {},
   "source": [
    "풍속 (평균). \n",
    "- https://m.blog.naver.com/dhpyun/220697406626\n",
    "\n",
    "\n",
    "- 보퍼트 풍력 계급 13단계\n",
    "- 0등급 (0~0.2) : 연기가 위로 똑바로 올라가는 상태.\n",
    "- 1등급 (0.3~1.5) : 연기가 날리나 바람개비에는 감지가 안됨.\n",
    "- 2등급 (1.6~3.3) : 바람이 얼굴에 감촉. 나뭇잎이 흔들리며 바람개비에 감지.\n",
    "- 3등급 (3.4~5.4) : 나뭇잎과 가는 가지가 쉴새없이 흔들림. 깃발이 가볍게 휘날림.\n",
    "- 4등급 (5.5~7.9) : 먼지가 일고 종이조각이 날리며 작은 나뭇가지가 흔들림.\n",
    "- 5등급 (8~10.7) : 작은 나무 전체가 흔들리고 강물에 잔물결."
   ]
  },
  {
   "cell_type": "markdown",
   "id": "31ae92e2",
   "metadata": {},
   "source": [
    "2. 변수가 수치형인지 범주형인지\n"
   ]
  },
  {
   "cell_type": "code",
   "execution_count": 21,
   "id": "df3a1c2a",
   "metadata": {},
   "outputs": [
    {
     "data": {
      "text/plain": [
       "0       1.4\n",
       "1       2.1\n",
       "2       3.4\n",
       "3       3.1\n",
       "4       2.9\n",
       "       ... \n",
       "5822    0.3\n",
       "5823    2.0\n",
       "5824    1.9\n",
       "5825    2.1\n",
       "5826    2.3\n",
       "Name: windspeed, Length: 5827, dtype: float64"
      ]
     },
     "execution_count": 21,
     "metadata": {},
     "output_type": "execute_result"
    }
   ],
   "source": [
    "data['windspeed']"
   ]
  },
  {
   "cell_type": "markdown",
   "id": "4324bcb6",
   "metadata": {},
   "source": [
    "3. 변수의 결측치 존재 여부 및 조치방안"
   ]
  },
  {
   "cell_type": "code",
   "execution_count": 22,
   "id": "75060dd9",
   "metadata": {},
   "outputs": [
    {
     "data": {
      "text/plain": [
       "0"
      ]
     },
     "execution_count": 22,
     "metadata": {},
     "output_type": "execute_result"
    }
   ],
   "source": [
    "data['windspeed'].isna().sum()"
   ]
  },
  {
   "cell_type": "markdown",
   "id": "19622077",
   "metadata": {},
   "source": [
    "4. 변수의 기초 통계량 확인"
   ]
  },
  {
   "cell_type": "code",
   "execution_count": 23,
   "id": "f3709434",
   "metadata": {},
   "outputs": [
    {
     "data": {
      "text/plain": [
       "count    5827.000000\n",
       "mean        2.237601\n",
       "std         1.054516\n",
       "min         0.000000\n",
       "25%         1.500000\n",
       "50%         2.200000\n",
       "75%         2.800000\n",
       "max         8.300000\n",
       "Name: windspeed, dtype: float64"
      ]
     },
     "execution_count": 23,
     "metadata": {},
     "output_type": "execute_result"
    }
   ],
   "source": [
    "data['windspeed'].describe()"
   ]
  },
  {
   "cell_type": "markdown",
   "id": "c5c4df1f",
   "metadata": {},
   "source": [
    "5. 변수의 분포 확인"
   ]
  },
  {
   "cell_type": "code",
   "execution_count": 24,
   "id": "03d586fc",
   "metadata": {},
   "outputs": [
    {
     "data": {
      "image/png": "[encoded data removed]",
      "text/plain": [
       "<Figure size 432x288 with 1 Axes>"
      ]
     },
     "metadata": {
      "needs_background": "light"
     },
     "output_type": "display_data"
    }
   ],
   "source": [
    "plt.hist(data['windspeed'], bins = 5, edgecolor = 'white')\n",
    "plt.show()"
   ]
  },
  {
   "cell_type": "code",
   "execution_count": 25,
   "id": "4fa1c16e",
   "metadata": {},
   "outputs": [
    {
     "data": {
      "image/png": "[encoded data removed]",
      "text/plain": [
       "<Figure size 432x288 with 1 Axes>"
      ]
     },
     "metadata": {
      "needs_background": "light"
     },
     "output_type": "display_data"
    }
   ],
   "source": [
    "sns.kdeplot(data['windspeed'])\n",
    "plt.show()"
   ]
  },
  {
   "cell_type": "markdown",
   "id": "592842b5",
   "metadata": {},
   "source": [
    "6. 위 정보로 부터 파악한 내용 정리"
   ]
  },
  {
   "cell_type": "markdown",
   "id": "cb4dbf1e",
   "metadata": {},
   "source": [
    "- 풍속이 2일때 (적당한 바람이 불때) 가 대체적으로 많음."
   ]
  },
  {
   "cell_type": "markdown",
   "id": "2b53880e",
   "metadata": {},
   "source": [
    "7. 추가 분석사항 도출"
   ]
  },
  {
   "cell_type": "code",
   "execution_count": null,
   "id": "fcafcce2",
   "metadata": {},
   "outputs": [],
   "source": []
  },
  {
   "cell_type": "markdown",
   "id": "3cda2f4d",
   "metadata": {},
   "source": [
    "### Feature5 : humidity"
   ]
  },
  {
   "cell_type": "markdown",
   "id": "a3ff4997",
   "metadata": {},
   "source": [
    "1. 변수가 내포하고 있는 의미\n",
    "- 변수의 의미를 한번 짚고 넘어갑시다. 여러분이 생각하는 이 변수의 의미를 작성해보세요."
   ]
  },
  {
   "cell_type": "markdown",
   "id": "7595585e",
   "metadata": {},
   "source": [
    "#### 습도를 의미.\n",
    "- http://www.153weather.com/past_climate02.html\n",
    "\n",
    "\n",
    "- 공기 중에 포함되어 있는 수증기의 비율\n",
    "- 비율이기 때문에 최대 100%\n",
    "\n",
    "\n",
    "- 대한민국의 평균 상대 습도는 67%\n",
    "- 4월의 평균 습도는 59%, 7월의 평균 습도는 80%\n",
    "- 여름 평균 습도는 76%\n",
    "- 봄과 겨울 평균 습도는 63%, 62%"
   ]
  },
  {
   "cell_type": "markdown",
   "id": "c3b27a76",
   "metadata": {},
   "source": [
    "2. 변수가 수치형인지 범주형인지\n"
   ]
  },
  {
   "cell_type": "code",
   "execution_count": 26,
   "id": "bfbcd416",
   "metadata": {},
   "outputs": [
    {
     "data": {
      "text/plain": [
       "0       49\n",
       "1       53\n",
       "2       43\n",
       "3       44\n",
       "4       44\n",
       "        ..\n",
       "5822    66\n",
       "5823    70\n",
       "5824    70\n",
       "5825    71\n",
       "5826    71\n",
       "Name: humidity, Length: 5827, dtype: int64"
      ]
     },
     "execution_count": 26,
     "metadata": {},
     "output_type": "execute_result"
    }
   ],
   "source": [
    "data['humidity']"
   ]
  },
  {
   "cell_type": "markdown",
   "id": "f68f08b2",
   "metadata": {},
   "source": [
    "3. 변수의 결측치 존재 여부 및 조치방안"
   ]
  },
  {
   "cell_type": "code",
   "execution_count": 27,
   "id": "b9c35be1",
   "metadata": {},
   "outputs": [
    {
     "data": {
      "text/plain": [
       "0"
      ]
     },
     "execution_count": 27,
     "metadata": {},
     "output_type": "execute_result"
    }
   ],
   "source": [
    "data['humidity'].isna().sum()"
   ]
  },
  {
   "cell_type": "markdown",
   "id": "5f8c1214",
   "metadata": {},
   "source": [
    "4. 변수의 기초 통계량 확인"
   ]
  },
  {
   "cell_type": "code",
   "execution_count": 28,
   "id": "d2c737bb",
   "metadata": {},
   "outputs": [
    {
     "data": {
      "text/plain": [
       "count    5827.000000\n",
       "mean       68.608718\n",
       "std        17.277266\n",
       "min        19.000000\n",
       "25%        56.000000\n",
       "50%        70.000000\n",
       "75%        82.000000\n",
       "max       100.000000\n",
       "Name: humidity, dtype: float64"
      ]
     },
     "execution_count": 28,
     "metadata": {},
     "output_type": "execute_result"
    }
   ],
   "source": [
    "data['humidity'].describe()"
   ]
  },
  {
   "cell_type": "markdown",
   "id": "7838c660",
   "metadata": {},
   "source": [
    "5. 변수의 분포 확인"
   ]
  },
  {
   "cell_type": "code",
   "execution_count": 30,
   "id": "6b1c4ebb",
   "metadata": {},
   "outputs": [
    {
     "data": {
      "image/png": "[encoded data removed]",
      "text/plain": [
       "<Figure size 432x288 with 1 Axes>"
      ]
     },
     "metadata": {
      "needs_background": "light"
     },
     "output_type": "display_data"
    }
   ],
   "source": [
    "plt.hist(data['humidity'], bins = 15, edgecolor = 'white')\n",
    "plt.show()"
   ]
  },
  {
   "cell_type": "code",
   "execution_count": 31,
   "id": "3aa4f8f8",
   "metadata": {},
   "outputs": [
    {
     "data": {
      "image/png": "[encoded data removed]",
      "text/plain": [
       "<Figure size 432x288 with 1 Axes>"
      ]
     },
     "metadata": {
      "needs_background": "light"
     },
     "output_type": "display_data"
    }
   ],
   "source": [
    "sns.kdeplot(data['humidity'])\n",
    "plt.show()"
   ]
  },
  {
   "cell_type": "markdown",
   "id": "900946a7",
   "metadata": {},
   "source": [
    "6. 위 정보로 부터 파악한 내용 정리"
   ]
  },
  {
   "cell_type": "markdown",
   "id": "d554ca8f",
   "metadata": {},
   "source": [
    "- 서울의 습도 편차는 59 ~ 80.\n",
    "    - 단, 위에서 조사한 것은 평균 상대 습도. (df의 기준과 일치하는지는 미지수)"
   ]
  },
  {
   "cell_type": "markdown",
   "id": "c32cd76c",
   "metadata": {},
   "source": [
    "7. 추가 분석사항 도출"
   ]
  },
  {
   "cell_type": "markdown",
   "id": "5cc3650f",
   "metadata": {},
   "source": [
    "- 대한민국의 평균 습도인 67%를 넘어갔을 때 따릉이 대여량의 관계가 궁금"
   ]
  },
  {
   "cell_type": "code",
   "execution_count": 151,
   "id": "3a55362c",
   "metadata": {},
   "outputs": [
    {
     "data": {
      "text/html": [
       "<div>\n",
       "<style scoped>\n",
       "    .dataframe tbody tr th:only-of-type {\n",
       "        vertical-align: middle;\n",
       "    }\n",
       "\n",
       "    .dataframe tbody tr th {\n",
       "        vertical-align: top;\n",
       "    }\n",
       "\n",
       "    .dataframe thead th {\n",
       "        text-align: right;\n",
       "    }\n",
       "</style>\n",
       "<table border=\"1\" class=\"dataframe\">\n",
       "  <thead>\n",
       "    <tr style=\"text-align: right;\">\n",
       "      <th></th>\n",
       "      <th>date</th>\n",
       "      <th>hour</th>\n",
       "      <th>PM10</th>\n",
       "      <th>PM2.5</th>\n",
       "      <th>ozone</th>\n",
       "      <th>temperature</th>\n",
       "      <th>precipitation</th>\n",
       "      <th>windspeed</th>\n",
       "      <th>humidity</th>\n",
       "      <th>visibility</th>\n",
       "      <th>count</th>\n",
       "    </tr>\n",
       "  </thead>\n",
       "  <tbody>\n",
       "    <tr>\n",
       "      <th>57</th>\n",
       "      <td>2021-04-03</td>\n",
       "      <td>10</td>\n",
       "      <td>49.0</td>\n",
       "      <td>18.0</td>\n",
       "      <td>0.026</td>\n",
       "      <td>16.8</td>\n",
       "      <td>1</td>\n",
       "      <td>1.9</td>\n",
       "      <td>79</td>\n",
       "      <td>521</td>\n",
       "      <td>5</td>\n",
       "    </tr>\n",
       "    <tr>\n",
       "      <th>58</th>\n",
       "      <td>2021-04-03</td>\n",
       "      <td>11</td>\n",
       "      <td>45.0</td>\n",
       "      <td>15.0</td>\n",
       "      <td>0.018</td>\n",
       "      <td>15.8</td>\n",
       "      <td>1</td>\n",
       "      <td>2.2</td>\n",
       "      <td>89</td>\n",
       "      <td>206</td>\n",
       "      <td>1</td>\n",
       "    </tr>\n",
       "    <tr>\n",
       "      <th>59</th>\n",
       "      <td>2021-04-03</td>\n",
       "      <td>12</td>\n",
       "      <td>40.0</td>\n",
       "      <td>13.0</td>\n",
       "      <td>0.021</td>\n",
       "      <td>14.9</td>\n",
       "      <td>1</td>\n",
       "      <td>2.9</td>\n",
       "      <td>94</td>\n",
       "      <td>165</td>\n",
       "      <td>2</td>\n",
       "    </tr>\n",
       "    <tr>\n",
       "      <th>60</th>\n",
       "      <td>2021-04-03</td>\n",
       "      <td>13</td>\n",
       "      <td>20.0</td>\n",
       "      <td>9.0</td>\n",
       "      <td>0.021</td>\n",
       "      <td>14.8</td>\n",
       "      <td>1</td>\n",
       "      <td>2.1</td>\n",
       "      <td>94</td>\n",
       "      <td>386</td>\n",
       "      <td>2</td>\n",
       "    </tr>\n",
       "    <tr>\n",
       "      <th>61</th>\n",
       "      <td>2021-04-03</td>\n",
       "      <td>14</td>\n",
       "      <td>17.0</td>\n",
       "      <td>10.0</td>\n",
       "      <td>0.017</td>\n",
       "      <td>14.5</td>\n",
       "      <td>1</td>\n",
       "      <td>3.7</td>\n",
       "      <td>96</td>\n",
       "      <td>285</td>\n",
       "      <td>3</td>\n",
       "    </tr>\n",
       "    <tr>\n",
       "      <th>...</th>\n",
       "      <td>...</td>\n",
       "      <td>...</td>\n",
       "      <td>...</td>\n",
       "      <td>...</td>\n",
       "      <td>...</td>\n",
       "      <td>...</td>\n",
       "      <td>...</td>\n",
       "      <td>...</td>\n",
       "      <td>...</td>\n",
       "      <td>...</td>\n",
       "      <td>...</td>\n",
       "    </tr>\n",
       "    <tr>\n",
       "      <th>5809</th>\n",
       "      <td>2021-11-29</td>\n",
       "      <td>7</td>\n",
       "      <td>40.0</td>\n",
       "      <td>30.0</td>\n",
       "      <td>0.002</td>\n",
       "      <td>2.9</td>\n",
       "      <td>0</td>\n",
       "      <td>2.1</td>\n",
       "      <td>68</td>\n",
       "      <td>1910</td>\n",
       "      <td>157</td>\n",
       "    </tr>\n",
       "    <tr>\n",
       "      <th>5823</th>\n",
       "      <td>2021-11-29</td>\n",
       "      <td>21</td>\n",
       "      <td>65.0</td>\n",
       "      <td>56.0</td>\n",
       "      <td>0.002</td>\n",
       "      <td>8.4</td>\n",
       "      <td>0</td>\n",
       "      <td>2.0</td>\n",
       "      <td>70</td>\n",
       "      <td>1233</td>\n",
       "      <td>228</td>\n",
       "    </tr>\n",
       "    <tr>\n",
       "      <th>5824</th>\n",
       "      <td>2021-11-29</td>\n",
       "      <td>22</td>\n",
       "      <td>51.0</td>\n",
       "      <td>41.0</td>\n",
       "      <td>0.002</td>\n",
       "      <td>8.6</td>\n",
       "      <td>0</td>\n",
       "      <td>1.9</td>\n",
       "      <td>70</td>\n",
       "      <td>1250</td>\n",
       "      <td>215</td>\n",
       "    </tr>\n",
       "    <tr>\n",
       "      <th>5825</th>\n",
       "      <td>2021-11-29</td>\n",
       "      <td>23</td>\n",
       "      <td>43.0</td>\n",
       "      <td>35.0</td>\n",
       "      <td>0.001</td>\n",
       "      <td>8.2</td>\n",
       "      <td>0</td>\n",
       "      <td>2.1</td>\n",
       "      <td>71</td>\n",
       "      <td>1262</td>\n",
       "      <td>125</td>\n",
       "    </tr>\n",
       "    <tr>\n",
       "      <th>5826</th>\n",
       "      <td>2021-11-30</td>\n",
       "      <td>0</td>\n",
       "      <td>39.0</td>\n",
       "      <td>31.0</td>\n",
       "      <td>0.004</td>\n",
       "      <td>7.9</td>\n",
       "      <td>0</td>\n",
       "      <td>2.3</td>\n",
       "      <td>71</td>\n",
       "      <td>1483</td>\n",
       "      <td>95</td>\n",
       "    </tr>\n",
       "  </tbody>\n",
       "</table>\n",
       "<p>3297 rows × 11 columns</p>\n",
       "</div>"
      ],
      "text/plain": [
       "            date  hour  PM10  PM2.5  ozone  temperature  precipitation  \\\n",
       "57    2021-04-03    10  49.0   18.0  0.026         16.8              1   \n",
       "58    2021-04-03    11  45.0   15.0  0.018         15.8              1   \n",
       "59    2021-04-03    12  40.0   13.0  0.021         14.9              1   \n",
       "60    2021-04-03    13  20.0    9.0  0.021         14.8              1   \n",
       "61    2021-04-03    14  17.0   10.0  0.017         14.5              1   \n",
       "...          ...   ...   ...    ...    ...          ...            ...   \n",
       "5809  2021-11-29     7  40.0   30.0  0.002          2.9              0   \n",
       "5823  2021-11-29    21  65.0   56.0  0.002          8.4              0   \n",
       "5824  2021-11-29    22  51.0   41.0  0.002          8.6              0   \n",
       "5825  2021-11-29    23  43.0   35.0  0.001          8.2              0   \n",
       "5826  2021-11-30     0  39.0   31.0  0.004          7.9              0   \n",
       "\n",
       "      windspeed  humidity  visibility  count  \n",
       "57          1.9        79         521      5  \n",
       "58          2.2        89         206      1  \n",
       "59          2.9        94         165      2  \n",
       "60          2.1        94         386      2  \n",
       "61          3.7        96         285      3  \n",
       "...         ...       ...         ...    ...  \n",
       "5809        2.1        68        1910    157  \n",
       "5823        2.0        70        1233    228  \n",
       "5824        1.9        70        1250    215  \n",
       "5825        2.1        71        1262    125  \n",
       "5826        2.3        71        1483     95  \n",
       "\n",
       "[3297 rows x 11 columns]"
      ]
     },
     "execution_count": 151,
     "metadata": {},
     "output_type": "execute_result"
    }
   ],
   "source": [
    "hum = data.loc[data['humidity'] >= 67]\n",
    "hum"
   ]
  },
  {
   "cell_type": "code",
   "execution_count": 153,
   "id": "323b4a76",
   "metadata": {},
   "outputs": [
    {
     "data": {
      "text/plain": [
       "(-0.37728824142275885, 4.976014036973886e-112)"
      ]
     },
     "execution_count": 153,
     "metadata": {},
     "output_type": "execute_result"
    }
   ],
   "source": [
    "spst.pearsonr(hum['humidity'], hum['count'])"
   ]
  },
  {
   "cell_type": "markdown",
   "id": "384ff006",
   "metadata": {},
   "source": [
    "### Feature6 : visibility"
   ]
  },
  {
   "cell_type": "markdown",
   "id": "7776737b",
   "metadata": {},
   "source": [
    "1. 변수가 내포하고 있는 의미\n",
    "- 변수의 의미를 한번 짚고 넘어갑시다. 여러분이 생각하는 이 변수의 의미를 작성해보세요."
   ]
  },
  {
   "cell_type": "markdown",
   "id": "9eb33326",
   "metadata": {},
   "source": [
    "#### 시정, 시계 (특정 기상 상태에 따른 가시성을 의미)\n",
    "\n",
    "- 물체나 빛이 분명하게 보이는 최대 거리 (가시거리)\n",
    "- 공기의 혼탁한 정도.\n",
    "- 5km 미만의 시정은 m단위를 사용한다."
   ]
  },
  {
   "cell_type": "markdown",
   "id": "ac93f7d7",
   "metadata": {},
   "source": [
    "2. 변수가 수치형인지 범주형인지\n"
   ]
  },
  {
   "cell_type": "code",
   "execution_count": 33,
   "id": "1b3baae9",
   "metadata": {},
   "outputs": [
    {
     "data": {
      "text/plain": [
       "0       2000\n",
       "1       2000\n",
       "2       2000\n",
       "3       2000\n",
       "4       2000\n",
       "        ... \n",
       "5822    1193\n",
       "5823    1233\n",
       "5824    1250\n",
       "5825    1262\n",
       "5826    1483\n",
       "Name: visibility, Length: 5827, dtype: int64"
      ]
     },
     "execution_count": 33,
     "metadata": {},
     "output_type": "execute_result"
    }
   ],
   "source": [
    "data['visibility']"
   ]
  },
  {
   "cell_type": "markdown",
   "id": "15c7d7fe",
   "metadata": {},
   "source": [
    "3. 변수의 결측치 존재 여부 및 조치방안"
   ]
  },
  {
   "cell_type": "code",
   "execution_count": 34,
   "id": "21e11a5c",
   "metadata": {},
   "outputs": [
    {
     "data": {
      "text/plain": [
       "0"
      ]
     },
     "execution_count": 34,
     "metadata": {},
     "output_type": "execute_result"
    }
   ],
   "source": [
    "data['visibility'].isna().sum()"
   ]
  },
  {
   "cell_type": "markdown",
   "id": "5187cb30",
   "metadata": {},
   "source": [
    "4. 변수의 기초 통계량 확인"
   ]
  },
  {
   "cell_type": "code",
   "execution_count": 35,
   "id": "2c570162",
   "metadata": {},
   "outputs": [
    {
     "data": {
      "text/plain": [
       "count    5827.000000\n",
       "mean     1758.438648\n",
       "std       490.969394\n",
       "min        60.000000\n",
       "25%      1935.500000\n",
       "50%      2000.000000\n",
       "75%      2000.000000\n",
       "max      2000.000000\n",
       "Name: visibility, dtype: float64"
      ]
     },
     "execution_count": 35,
     "metadata": {},
     "output_type": "execute_result"
    }
   ],
   "source": [
    "data['visibility'].describe()"
   ]
  },
  {
   "cell_type": "markdown",
   "id": "e5d4458e",
   "metadata": {},
   "source": [
    "5. 변수의 분포 확인"
   ]
  },
  {
   "cell_type": "code",
   "execution_count": 38,
   "id": "e1de1969",
   "metadata": {},
   "outputs": [
    {
     "data": {
      "image/png": "[encoded data removed]",
      "text/plain": [
       "<Figure size 432x288 with 1 Axes>"
      ]
     },
     "metadata": {
      "needs_background": "light"
     },
     "output_type": "display_data"
    }
   ],
   "source": [
    "plt.hist(data['visibility'], bins = 5, edgecolor = 'white')\n",
    "plt.show()"
   ]
  },
  {
   "cell_type": "code",
   "execution_count": 37,
   "id": "7cf47d4d",
   "metadata": {},
   "outputs": [
    {
     "data": {
      "image/png": "[encoded data removed]",
      "text/plain": [
       "<Figure size 432x288 with 1 Axes>"
      ]
     },
     "metadata": {
      "needs_background": "light"
     },
     "output_type": "display_data"
    }
   ],
   "source": [
    "sns.kdeplot(data['visibility'])\n",
    "plt.show()"
   ]
  },
  {
   "cell_type": "code",
   "execution_count": 162,
   "id": "edf3e330",
   "metadata": {},
   "outputs": [
    {
     "name": "stderr",
     "output_type": "stream",
     "text": [
      "C:\\Users\\User\\anaconda3\\lib\\site-packages\\seaborn\\distributions.py:2619: FutureWarning: `distplot` is a deprecated function and will be removed in a future version. Please adapt your code to use either `displot` (a figure-level function with similar flexibility) or `histplot` (an axes-level function for histograms).\n",
      "  warnings.warn(msg, FutureWarning)\n"
     ]
    },
    {
     "data": {
      "image/png": "[encoded data removed]",
      "text/plain": [
       "<Figure size 432x288 with 1 Axes>"
      ]
     },
     "metadata": {
      "needs_background": "light"
     },
     "output_type": "display_data"
    }
   ],
   "source": [
    "sns.distplot(data['visibility'], bins = 16, hist_kws = dict(edgecolor='grey'))\n",
    "plt.show()"
   ]
  },
  {
   "cell_type": "markdown",
   "id": "a396cc7b",
   "metadata": {},
   "source": [
    "6. 위 정보로 부터 파악한 내용 정리"
   ]
  },
  {
   "cell_type": "markdown",
   "id": "8a658805",
   "metadata": {},
   "source": [
    "- 대체로 시정거리가 2000m임을 볼 수 있음."
   ]
  },
  {
   "cell_type": "markdown",
   "id": "ce2c28a8",
   "metadata": {},
   "source": [
    "7. 추가 분석사항 도출"
   ]
  },
  {
   "cell_type": "markdown",
   "id": "964924bb",
   "metadata": {},
   "source": [
    "- 월별 가시거리 여부가 궁금\n",
    "- 미세먼지/초미세먼지와 시정간 관계는?"
   ]
  },
  {
   "cell_type": "code",
   "execution_count": null,
   "id": "d08697dd",
   "metadata": {},
   "outputs": [],
   "source": []
  },
  {
   "cell_type": "markdown",
   "id": "a5ebffa9",
   "metadata": {},
   "source": [
    "### Feature7 : ozone"
   ]
  },
  {
   "cell_type": "markdown",
   "id": "890ab168",
   "metadata": {},
   "source": [
    "1. 변수가 내포하고 있는 의미\n",
    "- 변수의 의미를 한번 짚고 넘어갑시다. 여러분이 생각하는 이 변수의 의미를 작성해보세요."
   ]
  },
  {
   "cell_type": "markdown",
   "id": "80bc6ec1",
   "metadata": {},
   "source": [
    "#### 오존 수치\n",
    "\n",
    "- https://science.ytn.co.kr/program/program_view.php?s_mcd=0082&s_hcd=0024&key=202007141654519393\n",
    "\n",
    "- 서울의 오존 일평균은 0.031\n",
    "- 기온 25도 이상, 상대습도 75% 이하, 풍속, 초속 4m 이하의 조건이면 급격히 늘어남."
   ]
  },
  {
   "cell_type": "markdown",
   "id": "cf9a4dc2",
   "metadata": {},
   "source": [
    "2. 변수가 수치형인지 범주형인지"
   ]
  },
  {
   "cell_type": "code",
   "execution_count": 39,
   "id": "1d302b91",
   "metadata": {},
   "outputs": [
    {
     "data": {
      "text/plain": [
       "0       0.002\n",
       "1       0.003\n",
       "2       0.023\n",
       "3       0.028\n",
       "4       0.008\n",
       "        ...  \n",
       "5822    0.002\n",
       "5823    0.002\n",
       "5824    0.002\n",
       "5825    0.001\n",
       "5826    0.004\n",
       "Name: ozone, Length: 5827, dtype: float64"
      ]
     },
     "execution_count": 39,
     "metadata": {},
     "output_type": "execute_result"
    }
   ],
   "source": [
    "data['ozone']"
   ]
  },
  {
   "cell_type": "markdown",
   "id": "f950f11f",
   "metadata": {},
   "source": [
    "3. 변수의 결측치 존재 여부 및 조치방안"
   ]
  },
  {
   "cell_type": "code",
   "execution_count": 83,
   "id": "dab81f3a",
   "metadata": {},
   "outputs": [
    {
     "data": {
      "text/plain": [
       "(5827, 11)"
      ]
     },
     "execution_count": 83,
     "metadata": {},
     "output_type": "execute_result"
    }
   ],
   "source": [
    "data.shape"
   ]
  },
  {
   "cell_type": "code",
   "execution_count": 82,
   "id": "9a1142d3",
   "metadata": {},
   "outputs": [
    {
     "data": {
      "text/plain": [
       "128"
      ]
     },
     "execution_count": 82,
     "metadata": {},
     "output_type": "execute_result"
    }
   ],
   "source": [
    "# 결측치가 존재\n",
    "data['ozone'].isna().sum()"
   ]
  },
  {
   "cell_type": "code",
   "execution_count": 84,
   "id": "f4146eaa",
   "metadata": {},
   "outputs": [
    {
     "data": {
      "text/plain": [
       "0"
      ]
     },
     "execution_count": 84,
     "metadata": {},
     "output_type": "execute_result"
    }
   ],
   "source": [
    "# 데이터 5827행 중 128개를 삭제할 수는 없음.\n",
    "## 데이터가 오른쪽으로 치우쳐진 관계로 평균값 대체도 어렵다 판단.\n",
    "### interpolate  사용\n",
    "data['ozone'] = data['ozone'].interpolate(method='linear') # default는 linear\n",
    "data['ozone'].isnull().sum()"
   ]
  },
  {
   "cell_type": "markdown",
   "id": "e87afc1d",
   "metadata": {},
   "source": [
    "4. 변수의 기초 통계량 확인"
   ]
  },
  {
   "cell_type": "code",
   "execution_count": 85,
   "id": "27c298c8",
   "metadata": {},
   "outputs": [
    {
     "data": {
      "text/plain": [
       "count    5827.000000\n",
       "mean        0.031634\n",
       "std         0.018263\n",
       "min         0.001000\n",
       "25%         0.019000\n",
       "50%         0.030000\n",
       "75%         0.041000\n",
       "max         0.137000\n",
       "Name: ozone, dtype: float64"
      ]
     },
     "execution_count": 85,
     "metadata": {},
     "output_type": "execute_result"
    }
   ],
   "source": [
    "data['ozone'].describe()"
   ]
  },
  {
   "cell_type": "markdown",
   "id": "bce12bf7",
   "metadata": {},
   "source": [
    "5. 변수의 분포 확인"
   ]
  },
  {
   "cell_type": "code",
   "execution_count": 86,
   "id": "6e6771f8",
   "metadata": {
    "scrolled": true
   },
   "outputs": [
    {
     "data": {
      "image/png": "[encoded data removed]",
      "text/plain": [
       "<Figure size 432x288 with 1 Axes>"
      ]
     },
     "metadata": {
      "needs_background": "light"
     },
     "output_type": "display_data"
    }
   ],
   "source": [
    "plt.hist(data['ozone'], bins = 15, edgecolor = 'white')\n",
    "plt.show()"
   ]
  },
  {
   "cell_type": "code",
   "execution_count": 87,
   "id": "ec759ed8",
   "metadata": {},
   "outputs": [
    {
     "data": {
      "image/png": "[encoded data removed]",
      "text/plain": [
       "<Figure size 432x288 with 1 Axes>"
      ]
     },
     "metadata": {
      "needs_background": "light"
     },
     "output_type": "display_data"
    }
   ],
   "source": [
    "sns.kdeplot(data['ozone'])\n",
    "plt.show()"
   ]
  },
  {
   "cell_type": "markdown",
   "id": "37980251",
   "metadata": {},
   "source": [
    "6. 위 정보로 부터 파악한 내용 정리"
   ]
  },
  {
   "cell_type": "markdown",
   "id": "eec989e3",
   "metadata": {},
   "source": [
    "- 서울의 오존 평균은 0.031. 평균적으로 크게 이 수치에서 벗어나지 않은 것 같음."
   ]
  },
  {
   "cell_type": "markdown",
   "id": "be00652c",
   "metadata": {},
   "source": [
    "7. 추가 분석사항 도출"
   ]
  },
  {
   "cell_type": "code",
   "execution_count": 154,
   "id": "b54e0e00",
   "metadata": {},
   "outputs": [
    {
     "data": {
      "text/plain": [
       "(0.5369351933122645, 0.0)"
      ]
     },
     "execution_count": 154,
     "metadata": {},
     "output_type": "execute_result"
    }
   ],
   "source": [
    "# 오존과 기온의 상관관계\n",
    "spst.pearsonr(data['temperature'], data['ozone'])"
   ]
  },
  {
   "cell_type": "code",
   "execution_count": 155,
   "id": "9122cb21",
   "metadata": {},
   "outputs": [
    {
     "data": {
      "text/plain": [
       "(-0.40709994117487225, 1.6375691120715833e-231)"
      ]
     },
     "execution_count": 155,
     "metadata": {},
     "output_type": "execute_result"
    }
   ],
   "source": [
    "# 오존과 습도의 상관관계\n",
    "spst.pearsonr(data['humidity'], data['ozone'])"
   ]
  },
  {
   "cell_type": "code",
   "execution_count": 156,
   "id": "86719a64",
   "metadata": {},
   "outputs": [
    {
     "data": {
      "text/plain": [
       "(0.34040462536431815, 5.097253142864444e-158)"
      ]
     },
     "execution_count": 156,
     "metadata": {},
     "output_type": "execute_result"
    }
   ],
   "source": [
    "# 오존과 풍속의 상관관계\n",
    "spst.pearsonr(data['windspeed'], data['ozone'])"
   ]
  },
  {
   "cell_type": "markdown",
   "id": "891daef3",
   "metadata": {},
   "source": [
    "### Feature8 : PM10"
   ]
  },
  {
   "cell_type": "markdown",
   "id": "5d96342e",
   "metadata": {},
   "source": [
    "1. 변수가 내포하고 있는 의미\n",
    "- 변수의 의미를 한번 짚고 넘어갑시다. 여러분이 생각하는 이 변수의 의미를 작성해보세요."
   ]
  },
  {
   "cell_type": "markdown",
   "id": "e1d48863",
   "metadata": {},
   "source": [
    "#### 미세먼지 수치 (머리카락 굵기의 1/5 ~ 1/7 크기의 미세먼지)\n",
    "\n",
    "- 서울 평균 미세먼지 수치는 35 (마포구는 31)\n",
    "- 미세먼지는 입자의 크기가 10㎛ (밀리그램) 이하인 먼지.\n",
    "- 초미세먼지는 입자의 크기가 2.5㎛ 이하인 먼지."
   ]
  },
  {
   "cell_type": "markdown",
   "id": "ea13171d",
   "metadata": {},
   "source": [
    "2. 변수가 수치형인지 범주형인지\n"
   ]
  },
  {
   "cell_type": "code",
   "execution_count": 88,
   "id": "118d6832",
   "metadata": {},
   "outputs": [
    {
     "data": {
      "text/plain": [
       "0       42.0\n",
       "1       41.0\n",
       "2       30.0\n",
       "3       27.0\n",
       "4       29.0\n",
       "        ... \n",
       "5822    74.0\n",
       "5823    65.0\n",
       "5824    51.0\n",
       "5825    43.0\n",
       "5826    39.0\n",
       "Name: PM10, Length: 5827, dtype: float64"
      ]
     },
     "execution_count": 88,
     "metadata": {},
     "output_type": "execute_result"
    }
   ],
   "source": [
    "data['PM10']"
   ]
  },
  {
   "cell_type": "markdown",
   "id": "db0bed2d",
   "metadata": {},
   "source": [
    "3. 변수의 결측치 존재 여부 및 조치방안"
   ]
  },
  {
   "cell_type": "code",
   "execution_count": 89,
   "id": "9d536ab7",
   "metadata": {},
   "outputs": [
    {
     "data": {
      "text/plain": [
       "102"
      ]
     },
     "execution_count": 89,
     "metadata": {},
     "output_type": "execute_result"
    }
   ],
   "source": [
    "data['PM10'].isna().sum()"
   ]
  },
  {
   "cell_type": "code",
   "execution_count": 90,
   "id": "503daab8",
   "metadata": {},
   "outputs": [
    {
     "data": {
      "text/plain": [
       "0"
      ]
     },
     "execution_count": 90,
     "metadata": {},
     "output_type": "execute_result"
    }
   ],
   "source": [
    "# 역시 interpolate 이용\n",
    "data['PM10'] = data['PM10'].interpolate(method='linear') # default는 linear\n",
    "data['PM10'].isnull().sum()"
   ]
  },
  {
   "cell_type": "markdown",
   "id": "fd83c904",
   "metadata": {},
   "source": [
    "4. 변수의 기초 통계량 확인"
   ]
  },
  {
   "cell_type": "code",
   "execution_count": 91,
   "id": "776d05e9",
   "metadata": {},
   "outputs": [
    {
     "data": {
      "text/plain": [
       "count    5827.000000\n",
       "mean       31.833705\n",
       "std        42.650908\n",
       "min         3.000000\n",
       "25%        16.000000\n",
       "50%        25.000000\n",
       "75%        37.000000\n",
       "max       827.000000\n",
       "Name: PM10, dtype: float64"
      ]
     },
     "execution_count": 91,
     "metadata": {},
     "output_type": "execute_result"
    }
   ],
   "source": [
    "data['PM10'].describe()"
   ]
  },
  {
   "cell_type": "markdown",
   "id": "57ae3a21",
   "metadata": {},
   "source": [
    "5. 변수의 분포 확인"
   ]
  },
  {
   "cell_type": "code",
   "execution_count": 102,
   "id": "c24a198f",
   "metadata": {},
   "outputs": [
    {
     "data": {
      "image/png": "[encoded data removed]",
      "text/plain": [
       "<Figure size 432x288 with 1 Axes>"
      ]
     },
     "metadata": {
      "needs_background": "light"
     },
     "output_type": "display_data"
    }
   ],
   "source": [
    "plt.hist(data['PM10'], bins = 100, edgecolor = 'white')\n",
    "plt.show()"
   ]
  },
  {
   "cell_type": "code",
   "execution_count": 93,
   "id": "c187b21b",
   "metadata": {},
   "outputs": [
    {
     "data": {
      "image/png": "[encoded data removed]",
      "text/plain": [
       "<Figure size 432x288 with 1 Axes>"
      ]
     },
     "metadata": {
      "needs_background": "light"
     },
     "output_type": "display_data"
    }
   ],
   "source": [
    "sns.kdeplot(data['PM10'])\n",
    "plt.show()"
   ]
  },
  {
   "cell_type": "code",
   "execution_count": 164,
   "id": "2f69fc37",
   "metadata": {},
   "outputs": [
    {
     "name": "stderr",
     "output_type": "stream",
     "text": [
      "C:\\Users\\User\\anaconda3\\lib\\site-packages\\seaborn\\distributions.py:2619: FutureWarning: `distplot` is a deprecated function and will be removed in a future version. Please adapt your code to use either `displot` (a figure-level function with similar flexibility) or `histplot` (an axes-level function for histograms).\n",
      "  warnings.warn(msg, FutureWarning)\n"
     ]
    },
    {
     "data": {
      "image/png": "[encoded data removed]",
      "text/plain": [
       "<Figure size 432x288 with 1 Axes>"
      ]
     },
     "metadata": {
      "needs_background": "light"
     },
     "output_type": "display_data"
    }
   ],
   "source": [
    "sns.distplot(data['PM10'], bins = 100, hist_kws = dict(edgecolor='grey'))\n",
    "plt.show()"
   ]
  },
  {
   "cell_type": "markdown",
   "id": "b1e047f2",
   "metadata": {},
   "source": [
    "6. 위 정보로 부터 파악한 내용 정리"
   ]
  },
  {
   "cell_type": "markdown",
   "id": "a89d35bd",
   "metadata": {},
   "source": [
    "- 827이라는 값이 이상값은 아닐까?\n",
    "- 몇백대의 값이 꽤 많음."
   ]
  },
  {
   "cell_type": "code",
   "execution_count": 149,
   "id": "4f7f8003",
   "metadata": {},
   "outputs": [
    {
     "data": {
      "text/plain": [
       "44"
      ]
     },
     "execution_count": 149,
     "metadata": {},
     "output_type": "execute_result"
    }
   ],
   "source": [
    "len(data.loc[data['PM10'] > 200])"
   ]
  },
  {
   "cell_type": "code",
   "execution_count": 145,
   "id": "12539e76",
   "metadata": {},
   "outputs": [
    {
     "data": {
      "text/html": [
       "<div>\n",
       "<style scoped>\n",
       "    .dataframe tbody tr th:only-of-type {\n",
       "        vertical-align: middle;\n",
       "    }\n",
       "\n",
       "    .dataframe tbody tr th {\n",
       "        vertical-align: top;\n",
       "    }\n",
       "\n",
       "    .dataframe thead th {\n",
       "        text-align: right;\n",
       "    }\n",
       "</style>\n",
       "<table border=\"1\" class=\"dataframe\">\n",
       "  <thead>\n",
       "    <tr style=\"text-align: right;\">\n",
       "      <th></th>\n",
       "      <th>date</th>\n",
       "      <th>hour</th>\n",
       "      <th>PM10</th>\n",
       "      <th>PM2.5</th>\n",
       "      <th>ozone</th>\n",
       "      <th>temperature</th>\n",
       "      <th>precipitation</th>\n",
       "      <th>windspeed</th>\n",
       "      <th>humidity</th>\n",
       "      <th>visibility</th>\n",
       "      <th>count</th>\n",
       "    </tr>\n",
       "  </thead>\n",
       "  <tbody>\n",
       "    <tr>\n",
       "      <th>375</th>\n",
       "      <td>2021-04-16</td>\n",
       "      <td>16</td>\n",
       "      <td>269.0</td>\n",
       "      <td>62.0</td>\n",
       "      <td>0.037</td>\n",
       "      <td>14.7</td>\n",
       "      <td>0</td>\n",
       "      <td>4.1</td>\n",
       "      <td>61</td>\n",
       "      <td>1298</td>\n",
       "      <td>332</td>\n",
       "    </tr>\n",
       "    <tr>\n",
       "      <th>376</th>\n",
       "      <td>2021-04-16</td>\n",
       "      <td>17</td>\n",
       "      <td>296.0</td>\n",
       "      <td>57.0</td>\n",
       "      <td>0.034</td>\n",
       "      <td>14.6</td>\n",
       "      <td>0</td>\n",
       "      <td>3.9</td>\n",
       "      <td>46</td>\n",
       "      <td>1003</td>\n",
       "      <td>406</td>\n",
       "    </tr>\n",
       "    <tr>\n",
       "      <th>873</th>\n",
       "      <td>2021-05-07</td>\n",
       "      <td>12</td>\n",
       "      <td>309.0</td>\n",
       "      <td>47.0</td>\n",
       "      <td>0.029</td>\n",
       "      <td>15.2</td>\n",
       "      <td>0</td>\n",
       "      <td>5.2</td>\n",
       "      <td>62</td>\n",
       "      <td>955</td>\n",
       "      <td>184</td>\n",
       "    </tr>\n",
       "    <tr>\n",
       "      <th>874</th>\n",
       "      <td>2021-05-07</td>\n",
       "      <td>13</td>\n",
       "      <td>485.0</td>\n",
       "      <td>78.0</td>\n",
       "      <td>0.028</td>\n",
       "      <td>16.5</td>\n",
       "      <td>0</td>\n",
       "      <td>5.9</td>\n",
       "      <td>50</td>\n",
       "      <td>616</td>\n",
       "      <td>181</td>\n",
       "    </tr>\n",
       "    <tr>\n",
       "      <th>875</th>\n",
       "      <td>2021-05-07</td>\n",
       "      <td>14</td>\n",
       "      <td>562.0</td>\n",
       "      <td>88.0</td>\n",
       "      <td>0.029</td>\n",
       "      <td>16.6</td>\n",
       "      <td>0</td>\n",
       "      <td>6.1</td>\n",
       "      <td>50</td>\n",
       "      <td>490</td>\n",
       "      <td>207</td>\n",
       "    </tr>\n",
       "    <tr>\n",
       "      <th>876</th>\n",
       "      <td>2021-05-07</td>\n",
       "      <td>15</td>\n",
       "      <td>555.0</td>\n",
       "      <td>88.0</td>\n",
       "      <td>0.030</td>\n",
       "      <td>16.9</td>\n",
       "      <td>0</td>\n",
       "      <td>4.4</td>\n",
       "      <td>53</td>\n",
       "      <td>482</td>\n",
       "      <td>208</td>\n",
       "    </tr>\n",
       "    <tr>\n",
       "      <th>877</th>\n",
       "      <td>2021-05-07</td>\n",
       "      <td>16</td>\n",
       "      <td>563.0</td>\n",
       "      <td>89.0</td>\n",
       "      <td>0.027</td>\n",
       "      <td>16.8</td>\n",
       "      <td>0</td>\n",
       "      <td>5.0</td>\n",
       "      <td>55</td>\n",
       "      <td>499</td>\n",
       "      <td>265</td>\n",
       "    </tr>\n",
       "    <tr>\n",
       "      <th>878</th>\n",
       "      <td>2021-05-07</td>\n",
       "      <td>17</td>\n",
       "      <td>594.0</td>\n",
       "      <td>93.0</td>\n",
       "      <td>0.024</td>\n",
       "      <td>16.3</td>\n",
       "      <td>0</td>\n",
       "      <td>4.8</td>\n",
       "      <td>57</td>\n",
       "      <td>471</td>\n",
       "      <td>346</td>\n",
       "    </tr>\n",
       "    <tr>\n",
       "      <th>879</th>\n",
       "      <td>2021-05-07</td>\n",
       "      <td>18</td>\n",
       "      <td>606.0</td>\n",
       "      <td>94.0</td>\n",
       "      <td>0.020</td>\n",
       "      <td>15.4</td>\n",
       "      <td>0</td>\n",
       "      <td>3.9</td>\n",
       "      <td>63</td>\n",
       "      <td>444</td>\n",
       "      <td>537</td>\n",
       "    </tr>\n",
       "    <tr>\n",
       "      <th>880</th>\n",
       "      <td>2021-05-07</td>\n",
       "      <td>19</td>\n",
       "      <td>586.0</td>\n",
       "      <td>87.0</td>\n",
       "      <td>0.016</td>\n",
       "      <td>13.7</td>\n",
       "      <td>0</td>\n",
       "      <td>6.0</td>\n",
       "      <td>70</td>\n",
       "      <td>419</td>\n",
       "      <td>303</td>\n",
       "    </tr>\n",
       "    <tr>\n",
       "      <th>881</th>\n",
       "      <td>2021-05-07</td>\n",
       "      <td>20</td>\n",
       "      <td>568.0</td>\n",
       "      <td>86.0</td>\n",
       "      <td>0.016</td>\n",
       "      <td>12.8</td>\n",
       "      <td>0</td>\n",
       "      <td>3.9</td>\n",
       "      <td>72</td>\n",
       "      <td>224</td>\n",
       "      <td>206</td>\n",
       "    </tr>\n",
       "    <tr>\n",
       "      <th>882</th>\n",
       "      <td>2021-05-07</td>\n",
       "      <td>21</td>\n",
       "      <td>706.0</td>\n",
       "      <td>106.0</td>\n",
       "      <td>0.014</td>\n",
       "      <td>12.3</td>\n",
       "      <td>0</td>\n",
       "      <td>2.5</td>\n",
       "      <td>72</td>\n",
       "      <td>327</td>\n",
       "      <td>242</td>\n",
       "    </tr>\n",
       "    <tr>\n",
       "      <th>883</th>\n",
       "      <td>2021-05-07</td>\n",
       "      <td>22</td>\n",
       "      <td>799.0</td>\n",
       "      <td>117.0</td>\n",
       "      <td>0.016</td>\n",
       "      <td>11.7</td>\n",
       "      <td>0</td>\n",
       "      <td>2.5</td>\n",
       "      <td>75</td>\n",
       "      <td>227</td>\n",
       "      <td>195</td>\n",
       "    </tr>\n",
       "    <tr>\n",
       "      <th>884</th>\n",
       "      <td>2021-05-07</td>\n",
       "      <td>23</td>\n",
       "      <td>817.0</td>\n",
       "      <td>116.0</td>\n",
       "      <td>0.016</td>\n",
       "      <td>11.2</td>\n",
       "      <td>0</td>\n",
       "      <td>2.7</td>\n",
       "      <td>76</td>\n",
       "      <td>202</td>\n",
       "      <td>91</td>\n",
       "    </tr>\n",
       "    <tr>\n",
       "      <th>885</th>\n",
       "      <td>2021-05-08</td>\n",
       "      <td>0</td>\n",
       "      <td>827.0</td>\n",
       "      <td>115.0</td>\n",
       "      <td>0.016</td>\n",
       "      <td>10.7</td>\n",
       "      <td>0</td>\n",
       "      <td>2.7</td>\n",
       "      <td>80</td>\n",
       "      <td>128</td>\n",
       "      <td>64</td>\n",
       "    </tr>\n",
       "    <tr>\n",
       "      <th>886</th>\n",
       "      <td>2021-05-08</td>\n",
       "      <td>1</td>\n",
       "      <td>726.0</td>\n",
       "      <td>102.0</td>\n",
       "      <td>0.018</td>\n",
       "      <td>10.5</td>\n",
       "      <td>0</td>\n",
       "      <td>2.2</td>\n",
       "      <td>81</td>\n",
       "      <td>217</td>\n",
       "      <td>54</td>\n",
       "    </tr>\n",
       "    <tr>\n",
       "      <th>887</th>\n",
       "      <td>2021-05-08</td>\n",
       "      <td>2</td>\n",
       "      <td>615.0</td>\n",
       "      <td>89.0</td>\n",
       "      <td>0.017</td>\n",
       "      <td>10.2</td>\n",
       "      <td>0</td>\n",
       "      <td>0.6</td>\n",
       "      <td>79</td>\n",
       "      <td>397</td>\n",
       "      <td>30</td>\n",
       "    </tr>\n",
       "    <tr>\n",
       "      <th>888</th>\n",
       "      <td>2021-05-08</td>\n",
       "      <td>3</td>\n",
       "      <td>590.0</td>\n",
       "      <td>85.0</td>\n",
       "      <td>0.019</td>\n",
       "      <td>10.0</td>\n",
       "      <td>0</td>\n",
       "      <td>2.1</td>\n",
       "      <td>80</td>\n",
       "      <td>451</td>\n",
       "      <td>24</td>\n",
       "    </tr>\n",
       "    <tr>\n",
       "      <th>889</th>\n",
       "      <td>2021-05-08</td>\n",
       "      <td>4</td>\n",
       "      <td>582.0</td>\n",
       "      <td>79.0</td>\n",
       "      <td>0.018</td>\n",
       "      <td>9.4</td>\n",
       "      <td>0</td>\n",
       "      <td>1.0</td>\n",
       "      <td>81</td>\n",
       "      <td>432</td>\n",
       "      <td>13</td>\n",
       "    </tr>\n",
       "    <tr>\n",
       "      <th>890</th>\n",
       "      <td>2021-05-08</td>\n",
       "      <td>5</td>\n",
       "      <td>551.0</td>\n",
       "      <td>77.0</td>\n",
       "      <td>0.019</td>\n",
       "      <td>9.2</td>\n",
       "      <td>0</td>\n",
       "      <td>0.7</td>\n",
       "      <td>83</td>\n",
       "      <td>449</td>\n",
       "      <td>16</td>\n",
       "    </tr>\n",
       "    <tr>\n",
       "      <th>891</th>\n",
       "      <td>2021-05-08</td>\n",
       "      <td>6</td>\n",
       "      <td>484.0</td>\n",
       "      <td>71.0</td>\n",
       "      <td>0.018</td>\n",
       "      <td>8.9</td>\n",
       "      <td>0</td>\n",
       "      <td>1.4</td>\n",
       "      <td>84</td>\n",
       "      <td>471</td>\n",
       "      <td>36</td>\n",
       "    </tr>\n",
       "    <tr>\n",
       "      <th>892</th>\n",
       "      <td>2021-05-08</td>\n",
       "      <td>7</td>\n",
       "      <td>483.0</td>\n",
       "      <td>74.0</td>\n",
       "      <td>0.019</td>\n",
       "      <td>9.8</td>\n",
       "      <td>0</td>\n",
       "      <td>1.9</td>\n",
       "      <td>81</td>\n",
       "      <td>539</td>\n",
       "      <td>42</td>\n",
       "    </tr>\n",
       "    <tr>\n",
       "      <th>893</th>\n",
       "      <td>2021-05-08</td>\n",
       "      <td>8</td>\n",
       "      <td>479.0</td>\n",
       "      <td>73.0</td>\n",
       "      <td>0.020</td>\n",
       "      <td>11.7</td>\n",
       "      <td>0</td>\n",
       "      <td>2.5</td>\n",
       "      <td>73</td>\n",
       "      <td>523</td>\n",
       "      <td>78</td>\n",
       "    </tr>\n",
       "    <tr>\n",
       "      <th>894</th>\n",
       "      <td>2021-05-08</td>\n",
       "      <td>9</td>\n",
       "      <td>433.0</td>\n",
       "      <td>66.0</td>\n",
       "      <td>0.025</td>\n",
       "      <td>13.8</td>\n",
       "      <td>0</td>\n",
       "      <td>1.8</td>\n",
       "      <td>65</td>\n",
       "      <td>563</td>\n",
       "      <td>105</td>\n",
       "    </tr>\n",
       "    <tr>\n",
       "      <th>895</th>\n",
       "      <td>2021-05-08</td>\n",
       "      <td>10</td>\n",
       "      <td>373.0</td>\n",
       "      <td>61.0</td>\n",
       "      <td>0.031</td>\n",
       "      <td>15.6</td>\n",
       "      <td>0</td>\n",
       "      <td>2.3</td>\n",
       "      <td>54</td>\n",
       "      <td>724</td>\n",
       "      <td>159</td>\n",
       "    </tr>\n",
       "    <tr>\n",
       "      <th>896</th>\n",
       "      <td>2021-05-08</td>\n",
       "      <td>11</td>\n",
       "      <td>332.0</td>\n",
       "      <td>53.0</td>\n",
       "      <td>0.037</td>\n",
       "      <td>17.3</td>\n",
       "      <td>0</td>\n",
       "      <td>3.9</td>\n",
       "      <td>50</td>\n",
       "      <td>863</td>\n",
       "      <td>176</td>\n",
       "    </tr>\n",
       "    <tr>\n",
       "      <th>897</th>\n",
       "      <td>2021-05-08</td>\n",
       "      <td>12</td>\n",
       "      <td>293.0</td>\n",
       "      <td>50.0</td>\n",
       "      <td>0.041</td>\n",
       "      <td>18.7</td>\n",
       "      <td>0</td>\n",
       "      <td>4.8</td>\n",
       "      <td>47</td>\n",
       "      <td>994</td>\n",
       "      <td>190</td>\n",
       "    </tr>\n",
       "    <tr>\n",
       "      <th>898</th>\n",
       "      <td>2021-05-08</td>\n",
       "      <td>13</td>\n",
       "      <td>269.0</td>\n",
       "      <td>37.0</td>\n",
       "      <td>0.044</td>\n",
       "      <td>19.6</td>\n",
       "      <td>0</td>\n",
       "      <td>6.0</td>\n",
       "      <td>42</td>\n",
       "      <td>1207</td>\n",
       "      <td>217</td>\n",
       "    </tr>\n",
       "    <tr>\n",
       "      <th>899</th>\n",
       "      <td>2021-05-08</td>\n",
       "      <td>14</td>\n",
       "      <td>222.0</td>\n",
       "      <td>34.0</td>\n",
       "      <td>0.047</td>\n",
       "      <td>20.4</td>\n",
       "      <td>0</td>\n",
       "      <td>6.0</td>\n",
       "      <td>39</td>\n",
       "      <td>1612</td>\n",
       "      <td>268</td>\n",
       "    </tr>\n",
       "    <tr>\n",
       "      <th>900</th>\n",
       "      <td>2021-05-08</td>\n",
       "      <td>15</td>\n",
       "      <td>230.0</td>\n",
       "      <td>36.0</td>\n",
       "      <td>0.048</td>\n",
       "      <td>20.5</td>\n",
       "      <td>0</td>\n",
       "      <td>6.5</td>\n",
       "      <td>37</td>\n",
       "      <td>1283</td>\n",
       "      <td>279</td>\n",
       "    </tr>\n",
       "    <tr>\n",
       "      <th>901</th>\n",
       "      <td>2021-05-08</td>\n",
       "      <td>16</td>\n",
       "      <td>250.0</td>\n",
       "      <td>39.0</td>\n",
       "      <td>0.050</td>\n",
       "      <td>19.6</td>\n",
       "      <td>0</td>\n",
       "      <td>8.3</td>\n",
       "      <td>43</td>\n",
       "      <td>1268</td>\n",
       "      <td>269</td>\n",
       "    </tr>\n",
       "    <tr>\n",
       "      <th>902</th>\n",
       "      <td>2021-05-08</td>\n",
       "      <td>17</td>\n",
       "      <td>261.0</td>\n",
       "      <td>40.0</td>\n",
       "      <td>0.047</td>\n",
       "      <td>18.0</td>\n",
       "      <td>0</td>\n",
       "      <td>6.1</td>\n",
       "      <td>53</td>\n",
       "      <td>1153</td>\n",
       "      <td>236</td>\n",
       "    </tr>\n",
       "    <tr>\n",
       "      <th>903</th>\n",
       "      <td>2021-05-08</td>\n",
       "      <td>18</td>\n",
       "      <td>262.0</td>\n",
       "      <td>39.0</td>\n",
       "      <td>0.044</td>\n",
       "      <td>16.4</td>\n",
       "      <td>0</td>\n",
       "      <td>5.6</td>\n",
       "      <td>65</td>\n",
       "      <td>1049</td>\n",
       "      <td>236</td>\n",
       "    </tr>\n",
       "    <tr>\n",
       "      <th>904</th>\n",
       "      <td>2021-05-08</td>\n",
       "      <td>19</td>\n",
       "      <td>248.0</td>\n",
       "      <td>37.0</td>\n",
       "      <td>0.042</td>\n",
       "      <td>15.1</td>\n",
       "      <td>0</td>\n",
       "      <td>4.6</td>\n",
       "      <td>72</td>\n",
       "      <td>958</td>\n",
       "      <td>178</td>\n",
       "    </tr>\n",
       "    <tr>\n",
       "      <th>905</th>\n",
       "      <td>2021-05-08</td>\n",
       "      <td>20</td>\n",
       "      <td>263.0</td>\n",
       "      <td>40.0</td>\n",
       "      <td>0.038</td>\n",
       "      <td>14.1</td>\n",
       "      <td>0</td>\n",
       "      <td>2.5</td>\n",
       "      <td>77</td>\n",
       "      <td>539</td>\n",
       "      <td>130</td>\n",
       "    </tr>\n",
       "    <tr>\n",
       "      <th>906</th>\n",
       "      <td>2021-05-08</td>\n",
       "      <td>21</td>\n",
       "      <td>251.0</td>\n",
       "      <td>39.0</td>\n",
       "      <td>0.030</td>\n",
       "      <td>13.4</td>\n",
       "      <td>0</td>\n",
       "      <td>2.6</td>\n",
       "      <td>83</td>\n",
       "      <td>651</td>\n",
       "      <td>182</td>\n",
       "    </tr>\n",
       "    <tr>\n",
       "      <th>907</th>\n",
       "      <td>2021-05-08</td>\n",
       "      <td>22</td>\n",
       "      <td>231.0</td>\n",
       "      <td>35.0</td>\n",
       "      <td>0.027</td>\n",
       "      <td>13.2</td>\n",
       "      <td>0</td>\n",
       "      <td>2.6</td>\n",
       "      <td>80</td>\n",
       "      <td>553</td>\n",
       "      <td>183</td>\n",
       "    </tr>\n",
       "    <tr>\n",
       "      <th>1284</th>\n",
       "      <td>2021-05-24</td>\n",
       "      <td>16</td>\n",
       "      <td>228.0</td>\n",
       "      <td>52.0</td>\n",
       "      <td>0.041</td>\n",
       "      <td>24.1</td>\n",
       "      <td>0</td>\n",
       "      <td>4.0</td>\n",
       "      <td>30</td>\n",
       "      <td>1579</td>\n",
       "      <td>331</td>\n",
       "    </tr>\n",
       "    <tr>\n",
       "      <th>1285</th>\n",
       "      <td>2021-05-24</td>\n",
       "      <td>17</td>\n",
       "      <td>254.0</td>\n",
       "      <td>54.0</td>\n",
       "      <td>0.032</td>\n",
       "      <td>23.4</td>\n",
       "      <td>0</td>\n",
       "      <td>4.0</td>\n",
       "      <td>33</td>\n",
       "      <td>1236</td>\n",
       "      <td>520</td>\n",
       "    </tr>\n",
       "    <tr>\n",
       "      <th>1286</th>\n",
       "      <td>2021-05-24</td>\n",
       "      <td>18</td>\n",
       "      <td>271.0</td>\n",
       "      <td>59.0</td>\n",
       "      <td>0.037</td>\n",
       "      <td>21.8</td>\n",
       "      <td>0</td>\n",
       "      <td>3.6</td>\n",
       "      <td>41</td>\n",
       "      <td>1054</td>\n",
       "      <td>828</td>\n",
       "    </tr>\n",
       "    <tr>\n",
       "      <th>1287</th>\n",
       "      <td>2021-05-24</td>\n",
       "      <td>19</td>\n",
       "      <td>244.0</td>\n",
       "      <td>55.0</td>\n",
       "      <td>0.039</td>\n",
       "      <td>20.5</td>\n",
       "      <td>0</td>\n",
       "      <td>2.5</td>\n",
       "      <td>47</td>\n",
       "      <td>1142</td>\n",
       "      <td>505</td>\n",
       "    </tr>\n",
       "    <tr>\n",
       "      <th>1288</th>\n",
       "      <td>2021-05-24</td>\n",
       "      <td>20</td>\n",
       "      <td>236.0</td>\n",
       "      <td>54.0</td>\n",
       "      <td>0.039</td>\n",
       "      <td>19.4</td>\n",
       "      <td>0</td>\n",
       "      <td>3.3</td>\n",
       "      <td>52</td>\n",
       "      <td>1218</td>\n",
       "      <td>395</td>\n",
       "    </tr>\n",
       "    <tr>\n",
       "      <th>1289</th>\n",
       "      <td>2021-05-24</td>\n",
       "      <td>21</td>\n",
       "      <td>216.0</td>\n",
       "      <td>51.0</td>\n",
       "      <td>0.037</td>\n",
       "      <td>18.4</td>\n",
       "      <td>0</td>\n",
       "      <td>2.8</td>\n",
       "      <td>59</td>\n",
       "      <td>1204</td>\n",
       "      <td>340</td>\n",
       "    </tr>\n",
       "    <tr>\n",
       "      <th>1290</th>\n",
       "      <td>2021-05-24</td>\n",
       "      <td>22</td>\n",
       "      <td>213.0</td>\n",
       "      <td>50.0</td>\n",
       "      <td>0.033</td>\n",
       "      <td>17.7</td>\n",
       "      <td>0</td>\n",
       "      <td>2.6</td>\n",
       "      <td>62</td>\n",
       "      <td>1231</td>\n",
       "      <td>259</td>\n",
       "    </tr>\n",
       "  </tbody>\n",
       "</table>\n",
       "</div>"
      ],
      "text/plain": [
       "            date  hour   PM10  PM2.5  ozone  temperature  precipitation  \\\n",
       "375   2021-04-16    16  269.0   62.0  0.037         14.7              0   \n",
       "376   2021-04-16    17  296.0   57.0  0.034         14.6              0   \n",
       "873   2021-05-07    12  309.0   47.0  0.029         15.2              0   \n",
       "874   2021-05-07    13  485.0   78.0  0.028         16.5              0   \n",
       "875   2021-05-07    14  562.0   88.0  0.029         16.6              0   \n",
       "876   2021-05-07    15  555.0   88.0  0.030         16.9              0   \n",
       "877   2021-05-07    16  563.0   89.0  0.027         16.8              0   \n",
       "878   2021-05-07    17  594.0   93.0  0.024         16.3              0   \n",
       "879   2021-05-07    18  606.0   94.0  0.020         15.4              0   \n",
       "880   2021-05-07    19  586.0   87.0  0.016         13.7              0   \n",
       "881   2021-05-07    20  568.0   86.0  0.016         12.8              0   \n",
       "882   2021-05-07    21  706.0  106.0  0.014         12.3              0   \n",
       "883   2021-05-07    22  799.0  117.0  0.016         11.7              0   \n",
       "884   2021-05-07    23  817.0  116.0  0.016         11.2              0   \n",
       "885   2021-05-08     0  827.0  115.0  0.016         10.7              0   \n",
       "886   2021-05-08     1  726.0  102.0  0.018         10.5              0   \n",
       "887   2021-05-08     2  615.0   89.0  0.017         10.2              0   \n",
       "888   2021-05-08     3  590.0   85.0  0.019         10.0              0   \n",
       "889   2021-05-08     4  582.0   79.0  0.018          9.4              0   \n",
       "890   2021-05-08     5  551.0   77.0  0.019          9.2              0   \n",
       "891   2021-05-08     6  484.0   71.0  0.018          8.9              0   \n",
       "892   2021-05-08     7  483.0   74.0  0.019          9.8              0   \n",
       "893   2021-05-08     8  479.0   73.0  0.020         11.7              0   \n",
       "894   2021-05-08     9  433.0   66.0  0.025         13.8              0   \n",
       "895   2021-05-08    10  373.0   61.0  0.031         15.6              0   \n",
       "896   2021-05-08    11  332.0   53.0  0.037         17.3              0   \n",
       "897   2021-05-08    12  293.0   50.0  0.041         18.7              0   \n",
       "898   2021-05-08    13  269.0   37.0  0.044         19.6              0   \n",
       "899   2021-05-08    14  222.0   34.0  0.047         20.4              0   \n",
       "900   2021-05-08    15  230.0   36.0  0.048         20.5              0   \n",
       "901   2021-05-08    16  250.0   39.0  0.050         19.6              0   \n",
       "902   2021-05-08    17  261.0   40.0  0.047         18.0              0   \n",
       "903   2021-05-08    18  262.0   39.0  0.044         16.4              0   \n",
       "904   2021-05-08    19  248.0   37.0  0.042         15.1              0   \n",
       "905   2021-05-08    20  263.0   40.0  0.038         14.1              0   \n",
       "906   2021-05-08    21  251.0   39.0  0.030         13.4              0   \n",
       "907   2021-05-08    22  231.0   35.0  0.027         13.2              0   \n",
       "1284  2021-05-24    16  228.0   52.0  0.041         24.1              0   \n",
       "1285  2021-05-24    17  254.0   54.0  0.032         23.4              0   \n",
       "1286  2021-05-24    18  271.0   59.0  0.037         21.8              0   \n",
       "1287  2021-05-24    19  244.0   55.0  0.039         20.5              0   \n",
       "1288  2021-05-24    20  236.0   54.0  0.039         19.4              0   \n",
       "1289  2021-05-24    21  216.0   51.0  0.037         18.4              0   \n",
       "1290  2021-05-24    22  213.0   50.0  0.033         17.7              0   \n",
       "\n",
       "      windspeed  humidity  visibility  count  \n",
       "375         4.1        61        1298    332  \n",
       "376         3.9        46        1003    406  \n",
       "873         5.2        62         955    184  \n",
       "874         5.9        50         616    181  \n",
       "875         6.1        50         490    207  \n",
       "876         4.4        53         482    208  \n",
       "877         5.0        55         499    265  \n",
       "878         4.8        57         471    346  \n",
       "879         3.9        63         444    537  \n",
       "880         6.0        70         419    303  \n",
       "881         3.9        72         224    206  \n",
       "882         2.5        72         327    242  \n",
       "883         2.5        75         227    195  \n",
       "884         2.7        76         202     91  \n",
       "885         2.7        80         128     64  \n",
       "886         2.2        81         217     54  \n",
       "887         0.6        79         397     30  \n",
       "888         2.1        80         451     24  \n",
       "889         1.0        81         432     13  \n",
       "890         0.7        83         449     16  \n",
       "891         1.4        84         471     36  \n",
       "892         1.9        81         539     42  \n",
       "893         2.5        73         523     78  \n",
       "894         1.8        65         563    105  \n",
       "895         2.3        54         724    159  \n",
       "896         3.9        50         863    176  \n",
       "897         4.8        47         994    190  \n",
       "898         6.0        42        1207    217  \n",
       "899         6.0        39        1612    268  \n",
       "900         6.5        37        1283    279  \n",
       "901         8.3        43        1268    269  \n",
       "902         6.1        53        1153    236  \n",
       "903         5.6        65        1049    236  \n",
       "904         4.6        72         958    178  \n",
       "905         2.5        77         539    130  \n",
       "906         2.6        83         651    182  \n",
       "907         2.6        80         553    183  \n",
       "1284        4.0        30        1579    331  \n",
       "1285        4.0        33        1236    520  \n",
       "1286        3.6        41        1054    828  \n",
       "1287        2.5        47        1142    505  \n",
       "1288        3.3        52        1218    395  \n",
       "1289        2.8        59        1204    340  \n",
       "1290        2.6        62        1231    259  "
      ]
     },
     "execution_count": 145,
     "metadata": {},
     "output_type": "execute_result"
    }
   ],
   "source": [
    "data.loc[data['PM10'] > 200]"
   ]
  },
  {
   "cell_type": "markdown",
   "id": "59bca4a0",
   "metadata": {},
   "source": [
    "7. 추가 분석사항 도출"
   ]
  },
  {
   "cell_type": "markdown",
   "id": "65d1c325",
   "metadata": {},
   "source": [
    "- 미세먼지 수치가 높을때는 주로 4월에서 5월임을 볼 수 있음\n",
    "- 봄철 미세먼지 수치가 높을 때인가?"
   ]
  },
  {
   "cell_type": "markdown",
   "id": "df4b9428",
   "metadata": {},
   "source": [
    "### Feature9 : PM2.5"
   ]
  },
  {
   "cell_type": "markdown",
   "id": "90c4833d",
   "metadata": {},
   "source": [
    "1. 변수가 내포하고 있는 의미\n",
    "- 변수의 의미를 한번 짚고 넘어갑시다. 여러분이 생각하는 이 변수의 의미를 작성해보세요."
   ]
  },
  {
   "cell_type": "markdown",
   "id": "36ba2cfe",
   "metadata": {},
   "source": [
    "#### 초미세먼지 수치 (머리카락 굵기의 1/20 ~ 1/30 크기의 미세먼지)\n",
    "\n",
    "- 서울 평균 초미세먼지 수치는 19. (마포구는 18)\n",
    "- 미세먼지는 입자의 크기가 10㎛ (밀리그램) 이하인 먼지.\n",
    "- 초미세먼지는 입자의 크기가 2.5㎛ 이하인 먼지."
   ]
  },
  {
   "cell_type": "markdown",
   "id": "e637534b",
   "metadata": {},
   "source": [
    "2. 변수가 수치형인지 범주형인지\n"
   ]
  },
  {
   "cell_type": "code",
   "execution_count": 56,
   "id": "94f948c2",
   "metadata": {},
   "outputs": [
    {
     "data": {
      "text/plain": [
       "0       21.0\n",
       "1       21.0\n",
       "2       13.0\n",
       "3       12.0\n",
       "4       14.0\n",
       "        ... \n",
       "5822    58.0\n",
       "5823    56.0\n",
       "5824    41.0\n",
       "5825    35.0\n",
       "5826    31.0\n",
       "Name: PM2.5, Length: 5827, dtype: float64"
      ]
     },
     "execution_count": 56,
     "metadata": {},
     "output_type": "execute_result"
    }
   ],
   "source": [
    "data['PM2.5']"
   ]
  },
  {
   "cell_type": "markdown",
   "id": "45f0a2e4",
   "metadata": {},
   "source": [
    "3. 변수의 결측치 존재 여부 및 조치방안"
   ]
  },
  {
   "cell_type": "code",
   "execution_count": 53,
   "id": "0371b579",
   "metadata": {},
   "outputs": [
    {
     "data": {
      "text/plain": [
       "95"
      ]
     },
     "execution_count": 53,
     "metadata": {},
     "output_type": "execute_result"
    }
   ],
   "source": [
    "data['PM2.5'].isna().sum()"
   ]
  },
  {
   "cell_type": "code",
   "execution_count": 94,
   "id": "93e703e4",
   "metadata": {},
   "outputs": [
    {
     "data": {
      "text/plain": [
       "0"
      ]
     },
     "execution_count": 94,
     "metadata": {},
     "output_type": "execute_result"
    }
   ],
   "source": [
    "# 역시 interpolate 이용\n",
    "data['PM2.5'] = data['PM2.5'].interpolate(method='linear') # default는 linear\n",
    "data['PM2.5'].isnull().sum()"
   ]
  },
  {
   "cell_type": "markdown",
   "id": "ade27354",
   "metadata": {},
   "source": [
    "4. 변수의 기초 통계량 확인"
   ]
  },
  {
   "cell_type": "code",
   "execution_count": 95,
   "id": "474da850",
   "metadata": {},
   "outputs": [
    {
     "data": {
      "text/plain": [
       "count    5827.000000\n",
       "mean       15.633774\n",
       "std        13.791083\n",
       "min         1.000000\n",
       "25%         7.000000\n",
       "50%        13.000000\n",
       "75%        20.000000\n",
       "max       125.000000\n",
       "Name: PM2.5, dtype: float64"
      ]
     },
     "execution_count": 95,
     "metadata": {},
     "output_type": "execute_result"
    }
   ],
   "source": [
    "data['PM2.5'].describe()"
   ]
  },
  {
   "cell_type": "markdown",
   "id": "7f87dca0",
   "metadata": {},
   "source": [
    "5. 변수의 분포 확인"
   ]
  },
  {
   "cell_type": "code",
   "execution_count": 96,
   "id": "730335cd",
   "metadata": {},
   "outputs": [
    {
     "data": {
      "image/png": "[encoded data removed]",
      "text/plain": [
       "<Figure size 432x288 with 1 Axes>"
      ]
     },
     "metadata": {
      "needs_background": "light"
     },
     "output_type": "display_data"
    }
   ],
   "source": [
    "plt.hist(data['PM2.5'], bins = 15, edgecolor = 'white')\n",
    "plt.show()"
   ]
  },
  {
   "cell_type": "code",
   "execution_count": 97,
   "id": "1eee3229",
   "metadata": {},
   "outputs": [
    {
     "data": {
      "image/png": "[encoded data removed]",
      "text/plain": [
       "<Figure size 432x288 with 1 Axes>"
      ]
     },
     "metadata": {
      "needs_background": "light"
     },
     "output_type": "display_data"
    }
   ],
   "source": [
    "sns.kdeplot(data['PM2.5'])\n",
    "plt.show()"
   ]
  },
  {
   "cell_type": "code",
   "execution_count": 165,
   "id": "cb29f1f9",
   "metadata": {},
   "outputs": [
    {
     "name": "stderr",
     "output_type": "stream",
     "text": [
      "C:\\Users\\User\\anaconda3\\lib\\site-packages\\seaborn\\distributions.py:2619: FutureWarning: `distplot` is a deprecated function and will be removed in a future version. Please adapt your code to use either `displot` (a figure-level function with similar flexibility) or `histplot` (an axes-level function for histograms).\n",
      "  warnings.warn(msg, FutureWarning)\n"
     ]
    },
    {
     "data": {
      "image/png": "[encoded data removed]",
      "text/plain": [
       "<Figure size 432x288 with 1 Axes>"
      ]
     },
     "metadata": {
      "needs_background": "light"
     },
     "output_type": "display_data"
    }
   ],
   "source": [
    "sns.distplot(data['PM2.5'], bins = 100, hist_kws = dict(edgecolor='grey'))\n",
    "plt.show()"
   ]
  },
  {
   "cell_type": "code",
   "execution_count": null,
   "id": "50a8df55",
   "metadata": {},
   "outputs": [],
   "source": []
  },
  {
   "cell_type": "markdown",
   "id": "c88ecbae",
   "metadata": {},
   "source": [
    "6. 위 정보로 부터 파악한 내용 정리"
   ]
  },
  {
   "cell_type": "code",
   "execution_count": null,
   "id": "c526b5e5",
   "metadata": {},
   "outputs": [],
   "source": []
  },
  {
   "cell_type": "markdown",
   "id": "9250671c",
   "metadata": {},
   "source": [
    "7. 추가 분석사항 도출"
   ]
  },
  {
   "cell_type": "markdown",
   "id": "5299effc",
   "metadata": {},
   "source": [
    "- 미세먼지가 높으면 초미세먼지가 높은지 궁금"
   ]
  },
  {
   "cell_type": "code",
   "execution_count": 106,
   "id": "1dfef442",
   "metadata": {},
   "outputs": [
    {
     "data": {
      "text/plain": [
       "(0.6841669416635519, 0.0)"
      ]
     },
     "execution_count": 106,
     "metadata": {},
     "output_type": "execute_result"
    }
   ],
   "source": [
    "spst.pearsonr(data['PM10'], data['PM2.5'])"
   ]
  },
  {
   "cell_type": "markdown",
   "id": "39882a5f",
   "metadata": {},
   "source": [
    "- 미세먼지/초미세먼지와 가시거리의 관계가 궁금"
   ]
  },
  {
   "cell_type": "code",
   "execution_count": 127,
   "id": "12151801",
   "metadata": {},
   "outputs": [
    {
     "data": {
      "text/plain": [
       "(-0.2867454209135002, 1.079055454795737e-110)"
      ]
     },
     "execution_count": 127,
     "metadata": {},
     "output_type": "execute_result"
    }
   ],
   "source": [
    "spst.pearsonr(data['PM10'], data['visibility'])"
   ]
  },
  {
   "cell_type": "code",
   "execution_count": 129,
   "id": "35183d05",
   "metadata": {},
   "outputs": [
    {
     "data": {
      "text/plain": [
       "(-0.4305653781192581, 1.074933888679831e-261)"
      ]
     },
     "execution_count": 129,
     "metadata": {},
     "output_type": "execute_result"
    }
   ],
   "source": [
    "spst.pearsonr(data['PM2.5'], data['visibility'])"
   ]
  },
  {
   "cell_type": "code",
   "execution_count": 158,
   "id": "6b6c7d60",
   "metadata": {},
   "outputs": [
    {
     "data": {
      "image/png": "[encoded data removed]",
      "text/plain": [
       "<Figure size 432x288 with 1 Axes>"
      ]
     },
     "metadata": {
      "needs_background": "light"
     },
     "output_type": "display_data"
    }
   ],
   "source": [
    "sns.regplot(x = 'PM10', y = 'visibility', data = data)\n",
    "plt.show()"
   ]
  },
  {
   "cell_type": "code",
   "execution_count": 159,
   "id": "79f14764",
   "metadata": {},
   "outputs": [
    {
     "data": {
      "image/png": "[encoded data removed]",
      "text/plain": [
       "<Figure size 432x288 with 1 Axes>"
      ]
     },
     "metadata": {
      "needs_background": "light"
     },
     "output_type": "display_data"
    }
   ],
   "source": [
    "sns.regplot(x = 'PM2.5', y = 'visibility', data = data)\n",
    "plt.show()"
   ]
  },
  {
   "cell_type": "markdown",
   "id": "1c9e29a9",
   "metadata": {},
   "source": [
    "### Count (Target)"
   ]
  },
  {
   "cell_type": "markdown",
   "id": "aae24b79",
   "metadata": {},
   "source": [
    "1. 변수가 내포하고 있는 의미\n",
    "- 변수의 의미를 한번 짚고 넘어갑시다. 여러분이 생각하는 이 변수의 의미를 작성해보세요."
   ]
  },
  {
   "cell_type": "markdown",
   "id": "16ead43e",
   "metadata": {},
   "source": [
    "#### 시간에 따른 따릉이 대여 수"
   ]
  },
  {
   "cell_type": "markdown",
   "id": "73e00858",
   "metadata": {},
   "source": [
    "2. 변수가 수치형인지 범주형인지\n"
   ]
  },
  {
   "cell_type": "code",
   "execution_count": 62,
   "id": "bafb64a5",
   "metadata": {},
   "outputs": [
    {
     "data": {
      "text/plain": [
       "0        46\n",
       "1        40\n",
       "2        31\n",
       "3        12\n",
       "4        30\n",
       "       ... \n",
       "5822    273\n",
       "5823    228\n",
       "5824    215\n",
       "5825    125\n",
       "5826     95\n",
       "Name: count, Length: 5827, dtype: int64"
      ]
     },
     "execution_count": 62,
     "metadata": {},
     "output_type": "execute_result"
    }
   ],
   "source": [
    "data['count']"
   ]
  },
  {
   "cell_type": "markdown",
   "id": "02233822",
   "metadata": {},
   "source": [
    "3. 변수의 결측치 존재 여부 및 조치방안"
   ]
  },
  {
   "cell_type": "code",
   "execution_count": 63,
   "id": "699de088",
   "metadata": {},
   "outputs": [
    {
     "data": {
      "text/plain": [
       "0"
      ]
     },
     "execution_count": 63,
     "metadata": {},
     "output_type": "execute_result"
    }
   ],
   "source": [
    "data['count'].isna().sum()"
   ]
  },
  {
   "cell_type": "markdown",
   "id": "6e56b611",
   "metadata": {},
   "source": [
    "4. 변수의 기초 통계량 확인"
   ]
  },
  {
   "cell_type": "code",
   "execution_count": 64,
   "id": "53fcef6f",
   "metadata": {},
   "outputs": [
    {
     "data": {
      "text/plain": [
       "count    5827.000000\n",
       "mean      215.117899\n",
       "std       185.972900\n",
       "min         1.000000\n",
       "25%        53.000000\n",
       "50%       186.000000\n",
       "75%       315.000000\n",
       "max      1746.000000\n",
       "Name: count, dtype: float64"
      ]
     },
     "execution_count": 64,
     "metadata": {},
     "output_type": "execute_result"
    }
   ],
   "source": [
    "data['count'].describe()"
   ]
  },
  {
   "cell_type": "markdown",
   "id": "d633fd5f",
   "metadata": {},
   "source": [
    "5. 변수의 분포 확인"
   ]
  },
  {
   "cell_type": "code",
   "execution_count": 68,
   "id": "b1db68b9",
   "metadata": {},
   "outputs": [
    {
     "data": {
      "image/png": "[encoded data removed]",
      "text/plain": [
       "<Figure size 432x288 with 1 Axes>"
      ]
     },
     "metadata": {
      "needs_background": "light"
     },
     "output_type": "display_data"
    }
   ],
   "source": [
    "plt.hist(data['count'], bins = 30, edgecolor = 'white')\n",
    "plt.show()"
   ]
  },
  {
   "cell_type": "code",
   "execution_count": 67,
   "id": "1693bf9b",
   "metadata": {},
   "outputs": [
    {
     "data": {
      "image/png": "[encoded data removed]",
      "text/plain": [
       "<Figure size 432x288 with 1 Axes>"
      ]
     },
     "metadata": {
      "needs_background": "light"
     },
     "output_type": "display_data"
    }
   ],
   "source": [
    "sns.kdeplot(data['count'])\n",
    "plt.show()"
   ]
  },
  {
   "cell_type": "markdown",
   "id": "ac1e244c",
   "metadata": {},
   "source": [
    "6. 위 정보로 부터 파악한 내용 정리"
   ]
  },
  {
   "cell_type": "code",
   "execution_count": null,
   "id": "256849ce",
   "metadata": {},
   "outputs": [],
   "source": []
  },
  {
   "cell_type": "markdown",
   "id": "5801abcd",
   "metadata": {},
   "source": [
    "7. 추가 분석사항 도출"
   ]
  },
  {
   "cell_type": "code",
   "execution_count": null,
   "id": "99ac0434",
   "metadata": {},
   "outputs": [],
   "source": []
  },
  {
   "cell_type": "markdown",
   "id": "1037464e",
   "metadata": {},
   "source": [
    "## 단변량 분석 후 가설"
   ]
  },
  {
   "cell_type": "markdown",
   "id": "3af7fd17",
   "metadata": {},
   "source": [
    "- 가설 1 : 1시간전 강우 여부와 따릉이간에는 연관성이 없다.\n",
    "    - 대립가설 : 1시간전 강우 여부와 따릉이 대여량 간에는 연관성이 있다.\n",
    "\n",
    "\n",
    "- 가설 2 : 미세먼지수치/초미세먼지수치와 따릉이간에는 연관성이 없다 / 있다\n",
    "    - 미세먼지수치 > 초미세먼지수치간 관계가 있을 것이다.\n",
    " \n",
    " \n",
    "- 가설 3: 온도와 따릉이간에는 연관성이 없다 / 있다\n",
    "    - 특히 온도가 높아질수록 대여량이 줄어들 것이다 (음의 상관관계)\n",
    "    - 단, 온도가 아주 낮으면 대여량이 다시 줄어들 것이다?\n",
    "    \n",
    "    \n",
    "- 가설 4: 풍속과 따릉이간에는 연관성이 없다 / 있다\n",
    "\n",
    "\n",
    "- 가설 5: 습도와 따릉이간에는 연관성이 없다 / 있다\n",
    "    - 대한민국의 평균 습도인 67%를 넘어갔을 때 대여량이 궁금.\n",
    "    \n",
    "    \n",
    "- 가설 6: 가시거리와 따릉이간에는 연관성이 없다 / 있다\n",
    "    - 사실, 큰 차이 없을 것 같음.\n",
    "    \n",
    "    \n",
    "- 가설 7: 오존과 따릉이간에는 연관성이 없다 / 있다\n",
    "    - 사람들이 오존 수치를 체감할 수 있나?"
   ]
  },
  {
   "cell_type": "markdown",
   "id": "91d9818b",
   "metadata": {},
   "source": [
    "### 4.이변량 분석 \n",
    "* 자료의 종류에 맞게 X --> Y 에 대해서 그래프(시각화)와 가설검정(수치화)를 수행하고 결과를 평가합니다.\n",
    "* 가설검정시 다음의 항목을 참조하여 수행합니다.\n",
    "    * 적절한 유의수준\n",
    "    * 숫자 --> 숫자 : 상관분석\n",
    "    * 범주 --> 범주 : 카이제곱검정\n",
    "    * 범주 --> 숫자 : t검정, 분산분석\n",
    "    * 숫자 --> 범주 : 로지스틱 회귀모형을 통해, 회귀계수의 P.value로 검정을 수행합니다."
   ]
  },
  {
   "cell_type": "code",
   "execution_count": 107,
   "id": "0b092cde",
   "metadata": {},
   "outputs": [],
   "source": [
    "target = data['count']"
   ]
  },
  {
   "cell_type": "markdown",
   "id": "a534b42f",
   "metadata": {},
   "source": [
    "#### (1) 범주형 Feature --> 숫자형 Y (따릉이 대여 Count)\n",
    "\n",
    "<font color=\"green\">* 모든 범주형 Feature에 대해서 Y와 비교하여 차트를 그리고 수치화 하시오.</font>\n",
    "\n",
    "\n",
    "        1. 시각화 : 그래프를 활용한 데이터 분석\n",
    "        2. 수치화 : t-test, anova\n",
    "        3. 관계 평가 (가설 검정)"
   ]
  },
  {
   "cell_type": "markdown",
   "id": "e8fc6e9b",
   "metadata": {},
   "source": [
    "1. 강수 여부와 따릉이 대여량간 이변량 분석"
   ]
  },
  {
   "cell_type": "code",
   "execution_count": 108,
   "id": "e40a4ad7",
   "metadata": {},
   "outputs": [
    {
     "data": {
      "image/png": "[encoded data removed]",
      "text/plain": [
       "<Figure size 432x288 with 1 Axes>"
      ]
     },
     "metadata": {
      "needs_background": "light"
     },
     "output_type": "display_data"
    }
   ],
   "source": [
    "# sns.barplot는 두 범주의 평균 비교 sns.barplot\n",
    "sns.barplot(x='precipitation', y=target, data=data) # 평균을 비교할 수 있는 barplot\n",
    "plt.grid()\n",
    "plt.show()"
   ]
  },
  {
   "cell_type": "code",
   "execution_count": 109,
   "id": "9d33eeb2",
   "metadata": {},
   "outputs": [
    {
     "data": {
      "text/plain": [
       "Ttest_indResult(statistic=-88.26661714227939, pvalue=0.0)"
      ]
     },
     "execution_count": 109,
     "metadata": {},
     "output_type": "execute_result"
    }
   ],
   "source": [
    "spst.ttest_ind(data['precipitation'], target)"
   ]
  },
  {
   "cell_type": "markdown",
   "id": "0a45ddd0",
   "metadata": {},
   "source": [
    "#### (2) 숫자형 Feature --> 숫자형 Y (따릉이 대여 Count)\n",
    "\n",
    "<font color=\"green\">* 모든 숫자형 Feature에 대해서 Y와 비교하여 차트를 그리고 수치화 하시오.  </font>\n",
    "\n",
    "\n",
    "        1. 시각화 : 그래프를 활용한 데이터 분석\n",
    "        2. 수치화 : 상관분석\n",
    "        3. 관계 평가 (가설 검정)"
   ]
  },
  {
   "cell_type": "markdown",
   "id": "b4eb02b9",
   "metadata": {},
   "source": [
    "2. 시간대별 데이터와 따릉이 대여량간 분석"
   ]
  },
  {
   "cell_type": "code",
   "execution_count": 110,
   "id": "8ae87a4b",
   "metadata": {},
   "outputs": [
    {
     "data": {
      "image/png": "[encoded data removed]",
      "text/plain": [
       "<Figure size 432x288 with 1 Axes>"
      ]
     },
     "metadata": {
      "needs_background": "light"
     },
     "output_type": "display_data"
    }
   ],
   "source": [
    "plt.scatter(data['hour'], target)\n",
    "plt.show()"
   ]
  },
  {
   "cell_type": "code",
   "execution_count": 111,
   "id": "8e8d1ba8",
   "metadata": {},
   "outputs": [
    {
     "data": {
      "text/plain": [
       "(0.5864350283919393, 0.0)"
      ]
     },
     "execution_count": 111,
     "metadata": {},
     "output_type": "execute_result"
    }
   ],
   "source": [
    "spst.pearsonr(data['hour'], target)"
   ]
  },
  {
   "cell_type": "markdown",
   "id": "760fd35b",
   "metadata": {},
   "source": [
    "- 전체적으로 저녁 > 아침.\n",
    "- 저녁 시간대 중에서는 퇴근 시간인 16시에 가장 대여량이 높음.\n",
    "- 아침 시간대 중에서는 출근 시간인 08시에 가장 대여량이 높음."
   ]
  },
  {
   "cell_type": "markdown",
   "id": "e2f3a90d",
   "metadata": {},
   "source": [
    "3. 온도 데이터와 따릉이 대여량간 분석"
   ]
  },
  {
   "cell_type": "code",
   "execution_count": 112,
   "id": "81b6893d",
   "metadata": {},
   "outputs": [
    {
     "data": {
      "image/png": "[encoded data removed]",
      "text/plain": [
       "<Figure size 432x288 with 1 Axes>"
      ]
     },
     "metadata": {
      "needs_background": "light"
     },
     "output_type": "display_data"
    }
   ],
   "source": [
    "plt.scatter(data['temperature'], target)\n",
    "plt.show()"
   ]
  },
  {
   "cell_type": "code",
   "execution_count": 113,
   "id": "c39a1935",
   "metadata": {},
   "outputs": [
    {
     "data": {
      "text/plain": [
       "(0.2771692363089791, 2.9405165551619465e-103)"
      ]
     },
     "execution_count": 113,
     "metadata": {},
     "output_type": "execute_result"
    }
   ],
   "source": [
    "spst.pearsonr(data['temperature'], target)"
   ]
  },
  {
   "cell_type": "markdown",
   "id": "80f8daed",
   "metadata": {},
   "source": [
    "- 영하나 30도를 넘은 극한의 상황에서도 수요가 존재.\n",
    "- 더울때보단 추울때 수요가 더 없음."
   ]
  },
  {
   "cell_type": "markdown",
   "id": "7488070d",
   "metadata": {},
   "source": [
    "4. 풍속 데이터와 따릉이 대여량간 분석"
   ]
  },
  {
   "cell_type": "code",
   "execution_count": 114,
   "id": "66f0698f",
   "metadata": {},
   "outputs": [
    {
     "data": {
      "image/png": "[encoded data removed]",
      "text/plain": [
       "<Figure size 432x288 with 1 Axes>"
      ]
     },
     "metadata": {
      "needs_background": "light"
     },
     "output_type": "display_data"
    }
   ],
   "source": [
    "plt.scatter(data['windspeed'], target)\n",
    "plt.show()"
   ]
  },
  {
   "cell_type": "code",
   "execution_count": 115,
   "id": "62e05a38",
   "metadata": {},
   "outputs": [
    {
     "data": {
      "text/plain": [
       "(0.22372189900674888, 5.2433176782994606e-67)"
      ]
     },
     "execution_count": 115,
     "metadata": {},
     "output_type": "execute_result"
    }
   ],
   "source": [
    "spst.pearsonr(data['windspeed'], target)"
   ]
  },
  {
   "cell_type": "markdown",
   "id": "09cdd2f6",
   "metadata": {},
   "source": [
    "- 바람 세기가 7 이상이면 수요가 거의 없음.\n",
    "- 바람이 아주 세지만 않으면 항상 수요가 많다고 볼 수 있음."
   ]
  },
  {
   "cell_type": "markdown",
   "id": "e4d7413f",
   "metadata": {},
   "source": [
    "5. 습도 데이터와 따릉이 대여량간 분석"
   ]
  },
  {
   "cell_type": "code",
   "execution_count": 116,
   "id": "f3177398",
   "metadata": {},
   "outputs": [
    {
     "data": {
      "image/png": "[encoded data removed]",
      "text/plain": [
       "<Figure size 432x288 with 1 Axes>"
      ]
     },
     "metadata": {
      "needs_background": "light"
     },
     "output_type": "display_data"
    }
   ],
   "source": [
    "plt.scatter(data['humidity'], target)\n",
    "plt.show()"
   ]
  },
  {
   "cell_type": "code",
   "execution_count": 117,
   "id": "35848339",
   "metadata": {},
   "outputs": [
    {
     "data": {
      "text/plain": [
       "(-0.4789554265904137, 0.0)"
      ]
     },
     "execution_count": 117,
     "metadata": {},
     "output_type": "execute_result"
    }
   ],
   "source": [
    "spst.pearsonr(data['humidity'], target)"
   ]
  },
  {
   "cell_type": "markdown",
   "id": "17298de2",
   "metadata": {},
   "source": [
    "6. 시정 데이터와 따릉이 대여량간 분석"
   ]
  },
  {
   "cell_type": "code",
   "execution_count": 118,
   "id": "1d94220a",
   "metadata": {},
   "outputs": [
    {
     "data": {
      "image/png": "[encoded data removed]",
      "text/plain": [
       "<Figure size 432x288 with 1 Axes>"
      ]
     },
     "metadata": {
      "needs_background": "light"
     },
     "output_type": "display_data"
    }
   ],
   "source": [
    "plt.scatter(data['visibility'], target)\n",
    "plt.show()"
   ]
  },
  {
   "cell_type": "code",
   "execution_count": 157,
   "id": "01b906c9",
   "metadata": {},
   "outputs": [
    {
     "data": {
      "image/png": "[encoded data removed]",
      "text/plain": [
       "<Figure size 432x288 with 1 Axes>"
      ]
     },
     "metadata": {
      "needs_background": "light"
     },
     "output_type": "display_data"
    }
   ],
   "source": [
    "sns.regplot(x = 'visibility', y = target, data = data)\n",
    "plt.show()"
   ]
  },
  {
   "cell_type": "code",
   "execution_count": 119,
   "id": "049fa37a",
   "metadata": {},
   "outputs": [
    {
     "data": {
      "text/plain": [
       "(0.26582778327488765, 7.876003852900128e-95)"
      ]
     },
     "execution_count": 119,
     "metadata": {},
     "output_type": "execute_result"
    }
   ],
   "source": [
    "spst.pearsonr(data['visibility'], target)"
   ]
  },
  {
   "cell_type": "markdown",
   "id": "e307c446",
   "metadata": {},
   "source": [
    "- 시정거리가 2000m일때 확 늘어나는 것 이외에 수요는 꾸준함.\n",
    "- 250 ~ 750 구간보다 1000 ~ 1500구간이 더 높긴 함."
   ]
  },
  {
   "cell_type": "markdown",
   "id": "09a11a8c",
   "metadata": {},
   "source": [
    "7. 오존 데이터와 따릉이 대여량간 분석"
   ]
  },
  {
   "cell_type": "code",
   "execution_count": 120,
   "id": "7a40314d",
   "metadata": {},
   "outputs": [
    {
     "data": {
      "image/png": "[encoded data removed]",
      "text/plain": [
       "<Figure size 432x288 with 1 Axes>"
      ]
     },
     "metadata": {
      "needs_background": "light"
     },
     "output_type": "display_data"
    }
   ],
   "source": [
    "plt.scatter(data['ozone'], target)\n",
    "plt.show()"
   ]
  },
  {
   "cell_type": "code",
   "execution_count": 121,
   "id": "114e71db",
   "metadata": {},
   "outputs": [
    {
     "data": {
      "text/plain": [
       "(0.3179918655691485, 4.721727543204258e-137)"
      ]
     },
     "execution_count": 121,
     "metadata": {},
     "output_type": "execute_result"
    }
   ],
   "source": [
    "spst.pearsonr(data['ozone'], target)"
   ]
  },
  {
   "cell_type": "markdown",
   "id": "0530ff10",
   "metadata": {},
   "source": [
    "8. 미세먼지 농도 데이터와 따릉이 대여량간 분석"
   ]
  },
  {
   "cell_type": "code",
   "execution_count": 122,
   "id": "439db952",
   "metadata": {},
   "outputs": [
    {
     "data": {
      "image/png": "[encoded data removed]",
      "text/plain": [
       "<Figure size 432x288 with 1 Axes>"
      ]
     },
     "metadata": {
      "needs_background": "light"
     },
     "output_type": "display_data"
    }
   ],
   "source": [
    "plt.scatter(data['PM10'], target)\n",
    "plt.show()"
   ]
  },
  {
   "cell_type": "code",
   "execution_count": 123,
   "id": "c3fcddbe",
   "metadata": {},
   "outputs": [
    {
     "data": {
      "text/plain": [
       "(0.02753552779908241, 0.03556499262323277)"
      ]
     },
     "execution_count": 123,
     "metadata": {},
     "output_type": "execute_result"
    }
   ],
   "source": [
    "spst.pearsonr(data['PM10'], target)"
   ]
  },
  {
   "cell_type": "markdown",
   "id": "aaef08fc",
   "metadata": {},
   "source": [
    "9. 초미세먼지 농도 데이터와 따릉이 대여량간 분석"
   ]
  },
  {
   "cell_type": "code",
   "execution_count": 124,
   "id": "e67b2699",
   "metadata": {},
   "outputs": [
    {
     "data": {
      "image/png": "[encoded data removed]",
      "text/plain": [
       "<Figure size 432x288 with 1 Axes>"
      ]
     },
     "metadata": {
      "needs_background": "light"
     },
     "output_type": "display_data"
    }
   ],
   "source": [
    "plt.scatter(data['PM2.5'], target)\n",
    "plt.show()"
   ]
  },
  {
   "cell_type": "code",
   "execution_count": 125,
   "id": "1680e65f",
   "metadata": {},
   "outputs": [
    {
     "data": {
      "text/plain": [
       "(0.034833977797175945, 0.007830765224579699)"
      ]
     },
     "execution_count": 125,
     "metadata": {},
     "output_type": "execute_result"
    }
   ],
   "source": [
    "spst.pearsonr(data['PM2.5'], target)"
   ]
  },
  {
   "cell_type": "markdown",
   "id": "df537aa1",
   "metadata": {},
   "source": [
    "### 5. 가설 검정"
   ]
  },
  {
   "cell_type": "markdown",
   "id": "f13f744f",
   "metadata": {},
   "source": [
    "#### <font color='green'>1. 강한 관계의 변수 (대립가설 채택)</font>"
   ]
  },
  {
   "cell_type": "markdown",
   "id": "53c13a37",
   "metadata": {},
   "source": [
    "- precipitation (강우) (t검정 -88.266, 0.0)\n",
    "- hour (시간) (0.586, 0.0)\n",
    "- humidity (습도) (-0.479, 0.0)"
   ]
  },
  {
   "cell_type": "markdown",
   "id": "b8d94714",
   "metadata": {},
   "source": [
    "#### <font color='green'>2. 약한 관계의 변수</font>\n"
   ]
  },
  {
   "cell_type": "markdown",
   "id": "a032ee77",
   "metadata": {},
   "source": [
    "- temperature (온도) (0.277, 0.0)\n",
    "- windspeed (풍속) (0.224, 0.0)\n",
    "- visibility (시정) (0.266, 0.0)\n",
    "- ozone (오존) (0.318, 0.0)"
   ]
  },
  {
   "cell_type": "markdown",
   "id": "bb2e905d",
   "metadata": {},
   "source": [
    "#### <font color='green'>3. 관계 없는 변수 (귀무가설 채택)</font>\n"
   ]
  },
  {
   "cell_type": "markdown",
   "id": "09886a08",
   "metadata": {},
   "source": [
    "- PM10 (미세먼지) (0.028. 0.036)\n",
    "- PM2.5 (초미세먼지) (0.035, 0.008)"
   ]
  },
  {
   "cell_type": "markdown",
   "id": "1b2a2617",
   "metadata": {},
   "source": [
    "### 6. Insight 도출"
   ]
  },
  {
   "cell_type": "markdown",
   "id": "2c386ba9",
   "metadata": {},
   "source": [
    "- **가설 1 : 강우 여부 > 따릉이**\n",
    "    - 강우가 -2보다 작은 음수이므로 강한 상관이 있다고 판단.\n",
    "\n",
    "\n",
    "- **가설 2 : 미세먼지수치/초미세먼지수치 > 따릉이**\n",
    "    - 사람들은 미세먼지 여부와 관련없이 따릉이를 대여한다.\n",
    "    - 미세먼지는 비교적 영향을 미칠 것 같았는데 의외의 결과.\n",
    "        - 미세먼지 > 시정 (-0.287, 0.0)\n",
    "        - 초미세먼지 > 시정 (-0.431, 0.0)\n",
    "        - 미세먼지도 약한 관계가 있으나, 초미세먼지가 가시거리와 관련이 큼을 알 수 있음.\n",
    "        \n",
    "        \n",
    "- **가설 3 : 시정 > 따릉이**\n",
    "    - 시정과 따릉이간에는 약한 양의 상관관계가 있음.\n",
    "    - 미세/초미세먼지와 따릉이 간의 직접적은 관계는 없으나,\n",
    "        - 미세/초미세 > 시정 > 따릉이 간의 관계는 어느 정도 존재한다고 판단.\n",
    "        - 2020년 마스크 때문에 상관이 없다고 나온것 같습니다 / (미세먼지때문에) 시야가 안보이면 영향을 미친다(o)\n",
    "\n",
    "\n",
    "- **가설 4 : 온도 > 따릉이**\n",
    "    - 온도와 따릉이간에는 약한 양의 상관관계가 있음.\n",
    "    - 온도와 습도의 상관관계는 어떨까?\n",
    "        - 온도 > 습도 (-0.092, 0.0)\n",
    "        - 해당 데이터에서 온도와 습도는 상관이 없는 모양.\n",
    "\n",
    "\n",
    "- **가설 5 : 풍속 > 따릉이**\n",
    "    - 풍속과 따릉이간에는 약한 양의 상관관계가 있음.\n",
    "\n",
    "\n",
    "- **가설 6 : 습도 > 따릉이**\n",
    "    - 습도와 따릉이간에는 강한 음의 상관관계가 있음.\n",
    "    - 습도가 높을수록 따릉이 대여는 줄어든다.\n",
    "    - 습도가 67% 이상일때의 df > 따릉이 대여 (-0.377, 0.0)\n",
    "        - 관계가 있으나 전체 데이터보다 상관계수가 줄어들었다.\n",
    "\n",
    "\n",
    "- **가설 7 : 오존 > 따릉이**\n",
    "    - 오존과 따릉이간에는 약한 양의 상관관계가 있음.\n",
    "    - 오존과 기온, 습도, 풍속간의 관계\n",
    "        - 오존 > 기온 (0.537, 0.0)\n",
    "        - 오존 > 습도 (-0.407, 0.0)\n",
    "        - 오존 > 풍속 (0.340, 0.0)"
   ]
  },
  {
   "cell_type": "code",
   "execution_count": null,
   "id": "09a81187",
   "metadata": {},
   "outputs": [],
   "source": []
  }
 ],
 "metadata": {
  "kernelspec": {
   "display_name": "Python 3",
   "language": "python",
   "name": "python3"
  },
  "language_info": {
   "codemirror_mode": {
    "name": "ipython",
    "version": 3
   },
   "file_extension": ".py",
   "mimetype": "text/x-python",
   "name": "python",
   "nbconvert_exporter": "python",
   "pygments_lexer": "ipython3",
   "version": "3.8.8"
  }
 },
 "nbformat": 4,
 "nbformat_minor": 5
}
